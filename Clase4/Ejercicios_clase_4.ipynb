{
  "nbformat": 4,
  "nbformat_minor": 0,
  "metadata": {
    "colab": {
      "name": "Ejercicios clase 4.ipynb",
      "provenance": [],
      "collapsed_sections": []
    },
    "kernelspec": {
      "name": "python3",
      "display_name": "Python 3"
    },
    "language_info": {
      "name": "python"
    }
  },
  "cells": [
    {
      "cell_type": "code",
      "metadata": {
        "id": "tACrPD9GtfHV"
      },
      "source": [
        "import numpy as np\n",
        "import matplotlib.pyplot as plt"
      ],
      "execution_count": 1,
      "outputs": []
    },
    {
      "cell_type": "markdown",
      "metadata": {
        "id": "aL_samcDqhaG"
      },
      "source": [
        "# 1. Stochastic Gradient Descent\n"
      ]
    },
    {
      "cell_type": "markdown",
      "metadata": {
        "id": "sQmXpjw3sN5q"
      },
      "source": [
        "a. Implementar en Python un algoritmo basado en Stochastic Gradient Descent\n",
        "para encontrar numéricamente el mínimo de y = (x − 2)2 + 3 . ¿Cuál es el mínimo valor que encontró el algoritmo y para qué valor de x? ¿En qué momento detuviste la búsqueda y por qué? ¿Cómo inicializamos los valores random del algoritmo y cómo afectan la convergencia? ¿Cuáles son los hiper parámetros del algoritmo?"
      ]
    },
    {
      "cell_type": "code",
      "metadata": {
        "id": "OYd3jGNiyO1e"
      },
      "source": [
        "def SGD_minimize_y(x,epochs,lr):\n",
        "  loss_list = []\n",
        "  epochs_list = []\n",
        "  for i in range(epochs):\n",
        "    x_inicial = x\n",
        "\n",
        "    loss = np.power((x-2),2)+3\n",
        "\n",
        "    grad = 2*(x-2)\n",
        "\n",
        "    x = x - (lr*grad)\n",
        "\n",
        "    loss_list.append(loss)\n",
        "    epochs_list.append(i)  \n",
        "\n",
        "    print(\"epoch: \",i)\n",
        "    print(\"loss: \",loss)\n",
        "    print(\"x: \",x)\n",
        "    print(\"diferencia con x aterior: \",x-x_inicial)\n",
        "\n",
        "    if ((x - x_inicial) < 0.01) and ((x - x_inicial) > -0.01):\n",
        "      print(\"optimización abortada en epoch: \", i)\n",
        "      print(\"loss: \", loss)\n",
        "      print(\"x: \", x)\n",
        "      break\n",
        "  return loss, x, loss_list, epochs_list"
      ],
      "execution_count": 2,
      "outputs": []
    },
    {
      "cell_type": "code",
      "metadata": {
        "colab": {
          "base_uri": "https://localhost:8080/"
        },
        "id": "X8OdLs4p0XAh",
        "outputId": "04454c44-a9a9-49b3-ab42-8de5b909b063"
      },
      "source": [
        "x = np.random.randint(1,100)\n",
        "epochs = 100\n",
        "lr=0.1\n",
        "SGD_minimize_y(x, epochs, lr)"
      ],
      "execution_count": 3,
      "outputs": [
        {
          "output_type": "stream",
          "text": [
            "epoch:  0\n",
            "loss:  52\n",
            "x:  7.6\n",
            "diferencia con x aterior:  -1.4000000000000004\n",
            "epoch:  1\n",
            "loss:  34.36\n",
            "x:  6.4799999999999995\n",
            "diferencia con x aterior:  -1.12\n",
            "epoch:  2\n",
            "loss:  23.070399999999996\n",
            "x:  5.584\n",
            "diferencia con x aterior:  -0.8959999999999999\n",
            "epoch:  3\n",
            "loss:  15.845055999999998\n",
            "x:  4.8671999999999995\n",
            "diferencia con x aterior:  -0.7168000000000001\n",
            "epoch:  4\n",
            "loss:  11.220835839999998\n",
            "x:  4.29376\n",
            "diferencia con x aterior:  -0.5734399999999997\n",
            "epoch:  5\n",
            "loss:  8.2613349376\n",
            "x:  3.8350079999999998\n",
            "diferencia con x aterior:  -0.45875200000000005\n",
            "epoch:  6\n",
            "loss:  6.367254360063999\n",
            "x:  3.4680063999999997\n",
            "diferencia con x aterior:  -0.36700160000000004\n",
            "epoch:  7\n",
            "loss:  5.155042790440959\n",
            "x:  3.17440512\n",
            "diferencia con x aterior:  -0.29360127999999985\n",
            "epoch:  8\n",
            "loss:  4.379227385882214\n",
            "x:  2.939524096\n",
            "diferencia con x aterior:  -0.23488102399999988\n",
            "epoch:  9\n",
            "loss:  3.8827055269646173\n",
            "x:  2.7516192768\n",
            "diferencia con x aterior:  -0.1879048191999999\n",
            "epoch:  10\n",
            "loss:  3.564931537257355\n",
            "x:  2.60129542144\n",
            "diferencia con x aterior:  -0.15032385535999992\n",
            "epoch:  11\n",
            "loss:  3.3615561838447072\n",
            "x:  2.481036337152\n",
            "diferencia con x aterior:  -0.12025908428800003\n",
            "epoch:  12\n",
            "loss:  3.2313959576606126\n",
            "x:  2.3848290697216\n",
            "diferencia con x aterior:  -0.0962072674304002\n",
            "epoch:  13\n",
            "loss:  3.148093412902792\n",
            "x:  2.30786325577728\n",
            "diferencia con x aterior:  -0.0769658139443199\n",
            "epoch:  14\n",
            "loss:  3.094779784257787\n",
            "x:  2.246290604621824\n",
            "diferencia con x aterior:  -0.06157265115545618\n",
            "epoch:  15\n",
            "loss:  3.0606590619249836\n",
            "x:  2.197032483697459\n",
            "diferencia con x aterior:  -0.04925812092436477\n",
            "epoch:  16\n",
            "loss:  3.0388217996319895\n",
            "x:  2.1576259869579673\n",
            "diferencia con x aterior:  -0.039406496739491814\n",
            "epoch:  17\n",
            "loss:  3.0248459517644735\n",
            "x:  2.1261007895663737\n",
            "diferencia con x aterior:  -0.03152519739159354\n",
            "epoch:  18\n",
            "loss:  3.015901409129263\n",
            "x:  2.100880631653099\n",
            "diferencia con x aterior:  -0.02522015791327492\n",
            "epoch:  19\n",
            "loss:  3.010176901842728\n",
            "x:  2.080704505322479\n",
            "diferencia con x aterior:  -0.020176126330619937\n",
            "epoch:  20\n",
            "loss:  3.006513217179346\n",
            "x:  2.064563604257983\n",
            "diferencia con x aterior:  -0.01614090106449595\n",
            "epoch:  21\n",
            "loss:  3.0041684589947812\n",
            "x:  2.0516508834063862\n",
            "diferencia con x aterior:  -0.01291272085159667\n",
            "epoch:  22\n",
            "loss:  3.00266781375666\n",
            "x:  2.041320706725109\n",
            "diferencia con x aterior:  -0.010330176681277337\n",
            "epoch:  23\n",
            "loss:  3.0017074008042623\n",
            "x:  2.033056565380087\n",
            "diferencia con x aterior:  -0.008264141345021958\n",
            "optimización abortada en epoch:  23\n",
            "loss:  3.0017074008042623\n",
            "x:  2.033056565380087\n"
          ],
          "name": "stdout"
        },
        {
          "output_type": "execute_result",
          "data": {
            "text/plain": [
              "(3.0017074008042623,\n",
              " 2.033056565380087,\n",
              " [52,\n",
              "  34.36,\n",
              "  23.070399999999996,\n",
              "  15.845055999999998,\n",
              "  11.220835839999998,\n",
              "  8.2613349376,\n",
              "  6.367254360063999,\n",
              "  5.155042790440959,\n",
              "  4.379227385882214,\n",
              "  3.8827055269646173,\n",
              "  3.564931537257355,\n",
              "  3.3615561838447072,\n",
              "  3.2313959576606126,\n",
              "  3.148093412902792,\n",
              "  3.094779784257787,\n",
              "  3.0606590619249836,\n",
              "  3.0388217996319895,\n",
              "  3.0248459517644735,\n",
              "  3.015901409129263,\n",
              "  3.010176901842728,\n",
              "  3.006513217179346,\n",
              "  3.0041684589947812,\n",
              "  3.00266781375666,\n",
              "  3.0017074008042623],\n",
              " [0,\n",
              "  1,\n",
              "  2,\n",
              "  3,\n",
              "  4,\n",
              "  5,\n",
              "  6,\n",
              "  7,\n",
              "  8,\n",
              "  9,\n",
              "  10,\n",
              "  11,\n",
              "  12,\n",
              "  13,\n",
              "  14,\n",
              "  15,\n",
              "  16,\n",
              "  17,\n",
              "  18,\n",
              "  19,\n",
              "  20,\n",
              "  21,\n",
              "  22,\n",
              "  23])"
            ]
          },
          "metadata": {
            "tags": []
          },
          "execution_count": 3
        }
      ]
    },
    {
      "cell_type": "markdown",
      "metadata": {
        "id": "-LcDV99q0N3S"
      },
      "source": [
        "b. Agregar al algoritmo del punto (a) un momento de primer orden. ¿Cuáles son los hiperparámetros del algoritmo?"
      ]
    },
    {
      "cell_type": "markdown",
      "metadata": {
        "id": "jpFOQAJH9sG9"
      },
      "source": [
        "Los hiperparámetros del algoritmo son las epochs, el learning rate y el sigma."
      ]
    },
    {
      "cell_type": "code",
      "metadata": {
        "id": "0LtecGiZu1cP"
      },
      "source": [
        "def SGD_with_first_order_minimize_y(x,epochs,lr,sigma):\n",
        "  v = 0\n",
        "  loss_list = []\n",
        "  epochs_list = []\n",
        "  for i in range(epochs):\n",
        "    x_inicial = x\n",
        "\n",
        "    loss = np.power((x-2),2)+3\n",
        "\n",
        "    grad = 2*(x-2)\n",
        "\n",
        "    v = sigma * v + lr*grad\n",
        "\n",
        "    x = x - v\n",
        "\n",
        "    loss_list.append(loss)\n",
        "    epochs_list.append(i) \n",
        "\n",
        "    print(\"epoch: \",i)\n",
        "    print(\"loss: \",loss)\n",
        "    print(\"x: \",x)\n",
        "    print(\"diferencia con x aterior: \",x-x_inicial)\n",
        "\n",
        "    if ((x - x_inicial) < 0.01) and ((x - x_inicial) > -0.01):\n",
        "      print(\"optimización abortada en epoch: \", i)\n",
        "      print(\"loss: \", loss)\n",
        "      print(\"x: \", x)\n",
        "      break\n",
        "  return loss, x, loss_list, epochs_list"
      ],
      "execution_count": 4,
      "outputs": []
    },
    {
      "cell_type": "code",
      "metadata": {
        "colab": {
          "base_uri": "https://localhost:8080/"
        },
        "id": "gTeTBW_F1WfZ",
        "outputId": "008ca246-b430-4302-da00-66b9d2cebe84"
      },
      "source": [
        "x = np.random.randint(1,100)\n",
        "epochs = 100\n",
        "lr=0.1\n",
        "sigma = 0.1\n",
        "SGD_with_first_order_minimize_y(x, epochs, lr, sigma)"
      ],
      "execution_count": 5,
      "outputs": [
        {
          "output_type": "stream",
          "text": [
            "epoch:  0\n",
            "loss:  9028\n",
            "x:  78.0\n",
            "diferencia con x aterior:  -19.0\n",
            "epoch:  1\n",
            "loss:  5779.0\n",
            "x:  60.9\n",
            "diferencia con x aterior:  -17.1\n",
            "epoch:  2\n",
            "loss:  3472.21\n",
            "x:  47.41\n",
            "diferencia con x aterior:  -13.490000000000002\n",
            "epoch:  3\n",
            "loss:  2065.0680999999995\n",
            "x:  36.979\n",
            "diferencia con x aterior:  -10.430999999999997\n",
            "epoch:  4\n",
            "loss:  1226.5304409999999\n",
            "x:  28.9401\n",
            "diferencia con x aterior:  -8.038899999999998\n",
            "epoch:  5\n",
            "loss:  728.76898801\n",
            "x:  22.74819\n",
            "diferencia con x aterior:  -6.19191\n",
            "epoch:  6\n",
            "loss:  433.48738827610003\n",
            "x:  17.979361\n",
            "diferencia con x aterior:  -4.768829\n",
            "epoch:  7\n",
            "loss:  258.339977968321\n",
            "x:  14.306605900000001\n",
            "diferencia con x aterior:  -3.6727551\n",
            "epoch:  8\n",
            "loss:  154.45254877791484\n",
            "x:  11.47800921\n",
            "diferencia con x aterior:  -2.8285966900000012\n",
            "epoch:  9\n",
            "loss:  92.83265858484482\n",
            "x:  9.299547699\n",
            "diferencia con x aterior:  -2.178461511\n",
            "epoch:  10\n",
            "loss:  56.28339660997619\n",
            "x:  7.6217920081\n",
            "diferencia con x aterior:  -1.6777556908999998\n",
            "epoch:  11\n",
            "loss:  34.60454538233703\n",
            "x:  6.32965803739\n",
            "diferencia con x aterior:  -1.2921339707100001\n",
            "epoch:  12\n",
            "loss:  21.745938720735825\n",
            "x:  5.3345130328409995\n",
            "diferencia con x aterior:  -0.9951450045490002\n",
            "epoch:  13\n",
            "loss:  14.11897716618648\n",
            "x:  4.568095925817899\n",
            "diferencia con x aterior:  -0.7664171070231003\n",
            "epoch:  14\n",
            "loss:  9.595116684202493\n",
            "x:  3.9778350299520095\n",
            "diferencia con x aterior:  -0.5902608958658897\n",
            "epoch:  15\n",
            "loss:  6.911831405705266\n",
            "x:  3.5232419343750188\n",
            "diferencia con x aterior:  -0.4545930955769908\n",
            "epoch:  16\n",
            "loss:  5.320265990638549\n",
            "x:  3.1731342379423157\n",
            "diferencia con x aterior:  -0.350107696432703\n",
            "epoch:  17\n",
            "loss:  4.376243940232498\n",
            "x:  2.903496620710582\n",
            "diferencia con x aterior:  -0.26963761723173363\n",
            "epoch:  18\n",
            "loss:  3.8163061436354413\n",
            "x:  2.6958335348452924\n",
            "diferencia con x aterior:  -0.2076630858652897\n",
            "epoch:  19\n",
            "loss:  3.484184308215295\n",
            "x:  2.535900519289705\n",
            "diferencia con x aterior:  -0.1599330155555876\n",
            "epoch:  20\n",
            "loss:  3.2871893665749754\n",
            "x:  2.412727113876205\n",
            "diferencia con x aterior:  -0.12317340541349964\n",
            "epoch:  21\n",
            "loss:  3.170343670528582\n",
            "x:  2.3178643505596144\n",
            "diferencia con x aterior:  -0.09486276331659083\n",
            "epoch:  22\n",
            "loss:  3.1010377453566855\n",
            "x:  2.2448052041160325\n",
            "diferencia con x aterior:  -0.07305914644358191\n",
            "epoch:  23\n",
            "loss:  3.0599295879622925\n",
            "x:  2.188538248648468\n",
            "diferencia con x aterior:  -0.05626695546756455\n",
            "epoch:  24\n",
            "loss:  3.0355466712034316\n",
            "x:  2.145203903372018\n",
            "diferencia con x aterior:  -0.04333434527644986\n",
            "epoch:  25\n",
            "loss:  3.0210841735544705\n",
            "x:  2.1118296881699696\n",
            "diferencia con x aterior:  -0.03337421520204842\n",
            "epoch:  26\n",
            "loss:  3.0125058791561927\n",
            "x:  2.0861263290157708\n",
            "diferencia con x aterior:  -0.025703359154198857\n",
            "epoch:  27\n",
            "loss:  3.0074177445497328\n",
            "x:  2.066330727297197\n",
            "diferencia con x aterior:  -0.019795601718573863\n",
            "epoch:  28\n",
            "loss:  3.0043997653837753\n",
            "x:  2.0510850216659002\n",
            "diferencia con x aterior:  -0.01524570563129668\n",
            "epoch:  29\n",
            "loss:  3.0026096794386055\n",
            "x:  2.0393434467695903\n",
            "diferencia con x aterior:  -0.011741574896309892\n",
            "epoch:  30\n",
            "loss:  3.0015479068037116\n",
            "x:  2.0303005999260413\n",
            "diferencia con x aterior:  -0.009042846843549057\n",
            "optimización abortada en epoch:  30\n",
            "loss:  3.0015479068037116\n",
            "x:  2.0303005999260413\n"
          ],
          "name": "stdout"
        },
        {
          "output_type": "execute_result",
          "data": {
            "text/plain": [
              "(3.0015479068037116,\n",
              " 2.0303005999260413,\n",
              " [9028,\n",
              "  5779.0,\n",
              "  3472.21,\n",
              "  2065.0680999999995,\n",
              "  1226.5304409999999,\n",
              "  728.76898801,\n",
              "  433.48738827610003,\n",
              "  258.339977968321,\n",
              "  154.45254877791484,\n",
              "  92.83265858484482,\n",
              "  56.28339660997619,\n",
              "  34.60454538233703,\n",
              "  21.745938720735825,\n",
              "  14.11897716618648,\n",
              "  9.595116684202493,\n",
              "  6.911831405705266,\n",
              "  5.320265990638549,\n",
              "  4.376243940232498,\n",
              "  3.8163061436354413,\n",
              "  3.484184308215295,\n",
              "  3.2871893665749754,\n",
              "  3.170343670528582,\n",
              "  3.1010377453566855,\n",
              "  3.0599295879622925,\n",
              "  3.0355466712034316,\n",
              "  3.0210841735544705,\n",
              "  3.0125058791561927,\n",
              "  3.0074177445497328,\n",
              "  3.0043997653837753,\n",
              "  3.0026096794386055,\n",
              "  3.0015479068037116],\n",
              " [0,\n",
              "  1,\n",
              "  2,\n",
              "  3,\n",
              "  4,\n",
              "  5,\n",
              "  6,\n",
              "  7,\n",
              "  8,\n",
              "  9,\n",
              "  10,\n",
              "  11,\n",
              "  12,\n",
              "  13,\n",
              "  14,\n",
              "  15,\n",
              "  16,\n",
              "  17,\n",
              "  18,\n",
              "  19,\n",
              "  20,\n",
              "  21,\n",
              "  22,\n",
              "  23,\n",
              "  24,\n",
              "  25,\n",
              "  26,\n",
              "  27,\n",
              "  28,\n",
              "  29,\n",
              "  30])"
            ]
          },
          "metadata": {
            "tags": []
          },
          "execution_count": 5
        }
      ]
    },
    {
      "cell_type": "markdown",
      "metadata": {
        "id": "B8zcQQ2a0QyV"
      },
      "source": [
        "c. Agregar al algoritmo del punto (b) un momento de segundo orden. ¿Cuáles son los hiperparámetros del algoritmo?"
      ]
    },
    {
      "cell_type": "markdown",
      "metadata": {
        "id": "F_Tz6Qwh92Ob"
      },
      "source": [
        "Los hiperparámetros del algoritmo son las epochs y el lr"
      ]
    },
    {
      "cell_type": "code",
      "metadata": {
        "id": "1OAVxkIk0WA7"
      },
      "source": [
        "def SGD_with_second_order_minimize_y(x,epochs,lr):\n",
        "  r = 0\n",
        "  loss_list = []\n",
        "  epochs_list = []\n",
        "  for i in range(epochs):\n",
        "    x_inicial = x\n",
        "\n",
        "    loss = np.power((x-2),2)+3\n",
        "\n",
        "    grad = 2*(x-2)\n",
        "\n",
        "    r = r + grad*grad\n",
        "\n",
        "    delta = (-lr/np.sqrt(r))*grad\n",
        "\n",
        "    x = x + delta\n",
        "\n",
        "    loss_list.append(loss)\n",
        "    epochs_list.append(i) \n",
        "\n",
        "    print(\"epoch: \",i)\n",
        "    print(\"loss: \",loss)\n",
        "    print(\"x: \",x)\n",
        "    print(\"diferencia con x aterior: \",x-x_inicial)\n",
        "\n",
        "    if ((x - x_inicial) < 0.0001) and ((x - x_inicial) > -0.0001):\n",
        "      print(\"optimización abortada en epoch: \", i)\n",
        "      print(\"loss: \", loss)\n",
        "      print(\"x: \", x)\n",
        "      break\n",
        "  return loss, x, loss_list, epochs_list"
      ],
      "execution_count": 6,
      "outputs": []
    },
    {
      "cell_type": "code",
      "metadata": {
        "colab": {
          "base_uri": "https://localhost:8080/"
        },
        "id": "htTMOhah16jk",
        "outputId": "9b20223b-8397-48b5-9d23-c79391669a03"
      },
      "source": [
        "x = np.random.randint(1,100)\n",
        "epochs = 100\n",
        "lr=0.1\n",
        "SGD_with_second_order_minimize_y(x, epochs, lr)"
      ],
      "execution_count": 7,
      "outputs": [
        {
          "output_type": "stream",
          "text": [
            "epoch:  0\n",
            "loss:  6403\n",
            "x:  81.9\n",
            "diferencia con x aterior:  -0.09999999999999432\n",
            "epoch:  1\n",
            "loss:  6387.010000000001\n",
            "x:  81.82933355751311\n",
            "diferencia con x aterior:  -0.07066644248689613\n",
            "epoch:  2\n",
            "loss:  6375.722496236689\n",
            "x:  81.77165667395086\n",
            "diferencia con x aterior:  -0.057676883562251646\n",
            "epoch:  3\n",
            "loss:  6366.517208506689\n",
            "x:  81.7217215477603\n",
            "diferencia con x aterior:  -0.04993512619056162\n",
            "epoch:  4\n",
            "loss:  6358.552886538629\n",
            "x:  81.67706901433819\n",
            "diferencia con x aterior:  -0.044652533422109286\n",
            "epoch:  5\n",
            "loss:  6351.43532671561\n",
            "x:  81.63631560637447\n",
            "diferencia con x aterior:  -0.04075340796372018\n",
            "epoch:  6\n",
            "loss:  6344.942763358082\n",
            "x:  81.59859241292429\n",
            "diferencia con x aterior:  -0.037723193450176495\n",
            "epoch:  7\n",
            "loss:  6338.935914118849\n",
            "x:  81.56331169067364\n",
            "diferencia con x aterior:  -0.035280722250647045\n",
            "epoch:  8\n",
            "loss:  6333.320567187286\n",
            "x:  81.53005402742372\n",
            "diferencia con x aterior:  -0.03325766324992685\n",
            "epoch:  9\n",
            "loss:  6328.029493604935\n",
            "x:  81.49850775943756\n",
            "diferencia con x aterior:  -0.03154626798615823\n",
            "epoch:  10\n",
            "loss:  6323.012735977353\n",
            "x:  81.46843381719431\n",
            "diferencia con x aterior:  -0.030073942243248553\n",
            "epoch:  11\n",
            "loss:  6318.231973357792\n",
            "x:  81.43964406414214\n",
            "diferencia con x aterior:  -0.028789753052166134\n",
            "epoch:  12\n",
            "loss:  6313.657049037594\n",
            "x:  81.41198729468194\n",
            "diferencia con x aterior:  -0.027656769460207897\n",
            "epoch:  13\n",
            "loss:  6309.263726090725\n",
            "x:  81.38533982180445\n",
            "diferencia con x aterior:  -0.026647472877485257\n",
            "epoch:  14\n",
            "loss:  6305.032178623372\n",
            "x:  81.35959894017081\n",
            "diferencia con x aterior:  -0.02574088163363797\n",
            "epoch:  15\n",
            "loss:  6300.94594394476\n",
            "x:  81.33467825908183\n",
            "diferencia con x aterior:  -0.02492068108898593\n",
            "epoch:  16\n",
            "loss:  6296.99117447203\n",
            "x:  81.31050429057578\n",
            "diferencia con x aterior:  -0.024173968506048027\n",
            "epoch:  17\n",
            "loss:  6293.156090825439\n",
            "x:  81.28701390331203\n",
            "diferencia con x aterior:  -0.023490387263748858\n",
            "epoch:  18\n",
            "loss:  6289.430573703995\n",
            "x:  81.26415238802636\n",
            "diferencia con x aterior:  -0.022861515285669043\n",
            "epoch:  19\n",
            "loss:  6285.805853792265\n",
            "x:  81.24187196409625\n",
            "diferencia con x aterior:  -0.022280423930112647\n",
            "epoch:  20\n",
            "loss:  6282.274272374223\n",
            "x:  81.22013061020195\n",
            "diferencia con x aterior:  -0.02174135389429921\n",
            "epoch:  21\n",
            "loss:  6278.829093897456\n",
            "x:  81.19889113706843\n",
            "diferencia con x aterior:  -0.021239473133519482\n",
            "epoch:  22\n",
            "loss:  6275.464357341216\n",
            "x:  81.1781204437244\n",
            "diferencia con x aterior:  -0.020770693344033475\n",
            "epoch:  23\n",
            "loss:  6272.1747570009275\n",
            "x:  81.15778891475372\n",
            "diferencia con x aterior:  -0.020331528970672252\n",
            "epoch:  24\n",
            "loss:  6268.955545872707\n",
            "x:  81.1378699271901\n",
            "diferencia con x aterior:  -0.019918987563627866\n",
            "epoch:  25\n",
            "loss:  6265.802456612859\n",
            "x:  81.11833944362373\n",
            "diferencia con x aterior:  -0.01953048356637055\n",
            "epoch:  26\n",
            "loss:  6262.711636316466\n",
            "x:  81.09917567378574\n",
            "diferencia con x aterior:  -0.019163769837987843\n",
            "epoch:  27\n",
            "loss:  6259.679592272418\n",
            "x:  81.080358791032\n",
            "diferencia con x aterior:  -0.018816882753739606\n",
            "epoch:  28\n",
            "loss:  6256.703146518352\n",
            "x:  81.06187069321949\n",
            "diferencia con x aterior:  -0.01848809781250793\n",
            "epoch:  29\n",
            "loss:  6253.779397511359\n",
            "x:  81.04369479976489\n",
            "diferencia con x aterior:  -0.018175893454596803\n",
            "epoch:  30\n",
            "loss:  6250.90568759838\n",
            "x:  81.02581587841145\n",
            "diferencia con x aterior:  -0.017878921353442934\n",
            "epoch:  31\n",
            "loss:  6248.079575248587\n",
            "x:  81.00821989655601\n",
            "diferencia con x aterior:  -0.017595981855436094\n",
            "epoch:  32\n",
            "loss:  6245.298811222549\n",
            "x:  80.99089389301024\n",
            "diferencia con x aterior:  -0.017326003545775848\n",
            "epoch:  33\n",
            "loss:  6242.561318016802\n",
            "x:  80.9738258668649\n",
            "diferencia con x aterior:  -0.017068026145338422\n",
            "epoch:  34\n",
            "loss:  6239.865172049899\n",
            "x:  80.95700468074963\n",
            "diferencia con x aterior:  -0.01682118611526562\n",
            "epoch:  35\n",
            "loss:  6237.20858815592\n",
            "x:  80.94041997627272\n",
            "diferencia con x aterior:  -0.016584704476912293\n",
            "epoch:  36\n",
            "loss:  6234.589906030317\n",
            "x:  80.9240620998176\n",
            "diferencia con x aterior:  -0.016357876455117548\n",
            "epoch:  37\n",
            "loss:  6232.007578335865\n",
            "x:  80.90792203718682\n",
            "diferencia con x aterior:  -0.01614006263078238\n",
            "epoch:  38\n",
            "loss:  6229.460160226754\n",
            "x:  80.8919913558373\n",
            "diferencia con x aterior:  -0.015930681349516362\n",
            "epoch:  39\n",
            "loss:  6226.946300089508\n",
            "x:  80.87626215365638\n",
            "diferencia con x aterior:  -0.01572920218092122\n",
            "epoch:  40\n",
            "loss:  6224.464731332327\n",
            "x:  80.86072701339555\n",
            "diferencia con x aterior:  -0.015535140260837466\n",
            "epoch:  41\n",
            "loss:  6222.014265081294\n",
            "x:  80.84537896201647\n",
            "diferencia con x aterior:  -0.015348051379078242\n",
            "epoch:  42\n",
            "loss:  6219.593783663989\n",
            "x:  80.83021143431714\n",
            "diferencia con x aterior:  -0.01516752769933305\n",
            "epoch:  43\n",
            "loss:  6217.202234779144\n",
            "x:  80.81521824029998\n",
            "diferencia con x aterior:  -0.014993194017151268\n",
            "epoch:  44\n",
            "loss:  6214.838626266115\n",
            "x:  80.80039353582193\n",
            "diferencia con x aterior:  -0.014824704478058948\n",
            "epoch:  45\n",
            "loss:  6212.502021400406\n",
            "x:  80.7857317961318\n",
            "diferencia con x aterior:  -0.014661739690126296\n",
            "epoch:  46\n",
            "loss:  6210.191534652013\n",
            "x:  80.77122779195538\n",
            "diferencia con x aterior:  -0.014504004176416174\n",
            "epoch:  47\n",
            "loss:  6207.906327852124\n",
            "x:  80.75687656783448\n",
            "diferencia con x aterior:  -0.014351224120900952\n",
            "epoch:  48\n",
            "loss:  6205.645606721116\n",
            "x:  80.74267342246586\n",
            "diferencia con x aterior:  -0.01420314536862577\n",
            "epoch:  49\n",
            "loss:  6203.40861771711\n",
            "x:  80.72861389081868\n",
            "diferencia con x aterior:  -0.014059531647177437\n",
            "epoch:  50\n",
            "loss:  6201.194645169608\n",
            "x:  80.71469372783794\n",
            "diferencia con x aterior:  -0.013920162980738837\n",
            "epoch:  51\n",
            "loss:  6199.00300866733\n",
            "x:  80.70090889356509\n",
            "diferencia con x aterior:  -0.013784834272854596\n",
            "epoch:  52\n",
            "loss:  6196.833060673232\n",
            "x:  80.68725553952818\n",
            "diferencia con x aterior:  -0.013653354036904375\n",
            "epoch:  53\n",
            "loss:  6194.684184343008\n",
            "x:  80.6737299962716\n",
            "diferencia con x aterior:  -0.013525543256577066\n",
            "epoch:  54\n",
            "loss:  6192.555791526246\n",
            "x:  80.66032876191086\n",
            "diferencia con x aterior:  -0.013401234360742365\n",
            "epoch:  55\n",
            "loss:  6190.447320931901\n",
            "x:  80.6470484916113\n",
            "diferencia con x aterior:  -0.01328027029956047\n",
            "epoch:  56\n",
            "loss:  6188.35823644186\n",
            "x:  80.63388598790125\n",
            "diferencia con x aterior:  -0.013162503710049123\n",
            "epoch:  57\n",
            "loss:  6186.288025558253\n",
            "x:  80.62083819174\n",
            "diferencia con x aterior:  -0.013047796161245628\n",
            "epoch:  58\n",
            "loss:  6184.236197971764\n",
            "x:  80.60790217427008\n",
            "diferencia con x aterior:  -0.012936017469925787\n",
            "epoch:  59\n",
            "loss:  6182.2022842396145\n",
            "x:  80.59507512919069\n",
            "diferencia con x aterior:  -0.012827045079390587\n",
            "epoch:  60\n",
            "loss:  6180.185834563129\n",
            "x:  80.58235436569622\n",
            "diferencia con x aterior:  -0.012720763494471043\n",
            "epoch:  61\n",
            "loss:  6178.186417655856\n",
            "x:  80.56973730192935\n",
            "diferencia con x aterior:  -0.012617063766867886\n",
            "epoch:  62\n",
            "loss:  6176.203619694188\n",
            "x:  80.5572214589037\n",
            "diferencia con x aterior:  -0.01251584302565334\n",
            "epoch:  63\n",
            "loss:  6174.23704334324\n",
            "x:  80.54480445485551\n",
            "diferencia con x aterior:  -0.012417004048188574\n",
            "epoch:  64\n",
            "loss:  6172.28630685149\n",
            "x:  80.53248399998799\n",
            "diferencia con x aterior:  -0.012320454867520425\n",
            "epoch:  65\n",
            "loss:  6170.351043208369\n",
            "x:  80.52025789157524\n",
            "diferencia con x aterior:  -0.012226108412747294\n",
            "epoch:  66\n",
            "loss:  6168.430899359484\n",
            "x:  80.50812400939644\n",
            "diferencia con x aterior:  -0.012133882178801514\n",
            "epoch:  67\n",
            "loss:  6166.52553547477\n",
            "x:  80.49608031147321\n",
            "diferencia con x aterior:  -0.012043697923232344\n",
            "epoch:  68\n",
            "loss:  6164.634624265252\n",
            "x:  80.48412483008606\n",
            "diferencia con x aterior:  -0.011955481387147415\n",
            "epoch:  69\n",
            "loss:  6162.757850344531\n",
            "x:  80.47225566804788\n",
            "diferencia con x aterior:  -0.011869162038181003\n",
            "epoch:  70\n",
            "loss:  6160.894909631473\n",
            "x:  80.4604709952144\n",
            "diferencia con x aterior:  -0.011784672833485388\n",
            "epoch:  71\n",
            "loss:  6159.0455087908795\n",
            "x:  80.44876904521358\n",
            "diferencia con x aterior:  -0.011701950000812644\n",
            "epoch:  72\n",
            "loss:  6157.209364709261\n",
            "x:  80.43714811237736\n",
            "diferencia con x aterior:  -0.011620932836223119\n",
            "epoch:  73\n",
            "loss:  6155.386204003023\n",
            "x:  80.42560654886051\n",
            "diferencia con x aterior:  -0.011541563516843212\n",
            "epoch:  74\n",
            "loss:  6153.575762556673\n",
            "x:  80.41414276193308\n",
            "diferencia con x aterior:  -0.011463786927436104\n",
            "epoch:  75\n",
            "loss:  6151.7777850888215\n",
            "x:  80.40275521143361\n",
            "diferencia con x aterior:  -0.011387550499463828\n",
            "epoch:  76\n",
            "loss:  6149.99202474398\n",
            "x:  80.39144240737174\n",
            "diferencia con x aterior:  -0.011312804061873294\n",
            "epoch:  77\n",
            "loss:  6148.218242708281\n",
            "x:  80.38020290766953\n",
            "diferencia con x aterior:  -0.011239499702213607\n",
            "epoch:  78\n",
            "loss:  6146.456207847446\n",
            "x:  80.36903531603188\n",
            "diferencia con x aterior:  -0.011167591637644136\n",
            "epoch:  79\n",
            "loss:  6144.705696365452\n",
            "x:  80.35793827993716\n",
            "diferencia con x aterior:  -0.0110970360947249\n",
            "epoch:  80\n",
            "loss:  6142.966491482441\n",
            "x:  80.34691048873974\n",
            "diferencia con x aterior:  -0.011027791197420811\n",
            "epoch:  81\n",
            "loss:  6141.238383130597\n",
            "x:  80.33595067187707\n",
            "diferencia con x aterior:  -0.010959816862666116\n",
            "epoch:  82\n",
            "loss:  6139.521167666758\n",
            "x:  80.32505759717421\n",
            "diferencia con x aterior:  -0.010893074702863714\n",
            "epoch:  83\n",
            "loss:  6137.814647600657\n",
            "x:  80.31423006923944\n",
            "diferencia con x aterior:  -0.010827527934765158\n",
            "epoch:  84\n",
            "loss:  6136.1186313377675\n",
            "x:  80.30346692794515\n",
            "diferencia con x aterior:  -0.01076314129429079\n",
            "epoch:  85\n",
            "loss:  6134.432932935801\n",
            "x:  80.29276704698837\n",
            "diferencia con x aterior:  -0.01069988095677843\n",
            "epoch:  86\n",
            "loss:  6132.757371873989\n",
            "x:  80.28212933252604\n",
            "diferencia con x aterior:  -0.010637714462333747\n",
            "epoch:  87\n",
            "loss:  6131.091772834334\n",
            "x:  80.2715527218802\n",
            "diferencia con x aterior:  -0.01057661064584181\n",
            "epoch:  88\n",
            "loss:  6129.435965494072\n",
            "x:  80.26103618230893\n",
            "diferencia con x aterior:  -0.0105165395712703\n",
            "epoch:  89\n",
            "loss:  6127.789784328667\n",
            "x:  80.25057870983882\n",
            "diferencia con x aterior:  -0.010457472470108087\n",
            "epoch:  90\n",
            "loss:  6126.15306842468\n",
            "x:  80.2401793281554\n",
            "diferencia con x aterior:  -0.010399381683413367\n",
            "epoch:  91\n",
            "loss:  6124.525661301916\n",
            "x:  80.22983708754799\n",
            "diferencia con x aterior:  -0.01034224060741451\n",
            "epoch:  92\n",
            "loss:  6122.907410744299\n",
            "x:  80.21955106390568\n",
            "diferencia con x aterior:  -0.01028602364230835\n",
            "epoch:  93\n",
            "loss:  6121.2981686389485\n",
            "x:  80.20932035776163\n",
            "diferencia con x aterior:  -0.010230706144056967\n",
            "epoch:  94\n",
            "loss:  6119.697790822987\n",
            "x:  80.19914409338263\n",
            "diferencia con x aterior:  -0.010176264378998212\n",
            "epoch:  95\n",
            "loss:  6118.106136937619\n",
            "x:  80.18902141790153\n",
            "diferencia con x aterior:  -0.010122675481099463\n",
            "epoch:  96\n",
            "loss:  6116.523070289064\n",
            "x:  80.17895150049002\n",
            "diferencia con x aterior:  -0.01006991741151353\n",
            "epoch:  97\n",
            "loss:  6114.94845771597\n",
            "x:  80.16893353156945\n",
            "diferencia con x aterior:  -0.010017968920564613\n",
            "epoch:  98\n",
            "loss:  6113.382169462923\n",
            "x:  80.15896672205766\n",
            "diferencia con x aterior:  -0.00996680951179485\n",
            "epoch:  99\n",
            "loss:  6111.8240790597165\n",
            "x:  80.14905030264975\n",
            "diferencia con x aterior:  -0.00991641940790089\n"
          ],
          "name": "stdout"
        },
        {
          "output_type": "execute_result",
          "data": {
            "text/plain": [
              "(6111.8240790597165,\n",
              " 80.14905030264975,\n",
              " [6403,\n",
              "  6387.010000000001,\n",
              "  6375.722496236689,\n",
              "  6366.517208506689,\n",
              "  6358.552886538629,\n",
              "  6351.43532671561,\n",
              "  6344.942763358082,\n",
              "  6338.935914118849,\n",
              "  6333.320567187286,\n",
              "  6328.029493604935,\n",
              "  6323.012735977353,\n",
              "  6318.231973357792,\n",
              "  6313.657049037594,\n",
              "  6309.263726090725,\n",
              "  6305.032178623372,\n",
              "  6300.94594394476,\n",
              "  6296.99117447203,\n",
              "  6293.156090825439,\n",
              "  6289.430573703995,\n",
              "  6285.805853792265,\n",
              "  6282.274272374223,\n",
              "  6278.829093897456,\n",
              "  6275.464357341216,\n",
              "  6272.1747570009275,\n",
              "  6268.955545872707,\n",
              "  6265.802456612859,\n",
              "  6262.711636316466,\n",
              "  6259.679592272418,\n",
              "  6256.703146518352,\n",
              "  6253.779397511359,\n",
              "  6250.90568759838,\n",
              "  6248.079575248587,\n",
              "  6245.298811222549,\n",
              "  6242.561318016802,\n",
              "  6239.865172049899,\n",
              "  6237.20858815592,\n",
              "  6234.589906030317,\n",
              "  6232.007578335865,\n",
              "  6229.460160226754,\n",
              "  6226.946300089508,\n",
              "  6224.464731332327,\n",
              "  6222.014265081294,\n",
              "  6219.593783663989,\n",
              "  6217.202234779144,\n",
              "  6214.838626266115,\n",
              "  6212.502021400406,\n",
              "  6210.191534652013,\n",
              "  6207.906327852124,\n",
              "  6205.645606721116,\n",
              "  6203.40861771711,\n",
              "  6201.194645169608,\n",
              "  6199.00300866733,\n",
              "  6196.833060673232,\n",
              "  6194.684184343008,\n",
              "  6192.555791526246,\n",
              "  6190.447320931901,\n",
              "  6188.35823644186,\n",
              "  6186.288025558253,\n",
              "  6184.236197971764,\n",
              "  6182.2022842396145,\n",
              "  6180.185834563129,\n",
              "  6178.186417655856,\n",
              "  6176.203619694188,\n",
              "  6174.23704334324,\n",
              "  6172.28630685149,\n",
              "  6170.351043208369,\n",
              "  6168.430899359484,\n",
              "  6166.52553547477,\n",
              "  6164.634624265252,\n",
              "  6162.757850344531,\n",
              "  6160.894909631473,\n",
              "  6159.0455087908795,\n",
              "  6157.209364709261,\n",
              "  6155.386204003023,\n",
              "  6153.575762556673,\n",
              "  6151.7777850888215,\n",
              "  6149.99202474398,\n",
              "  6148.218242708281,\n",
              "  6146.456207847446,\n",
              "  6144.705696365452,\n",
              "  6142.966491482441,\n",
              "  6141.238383130597,\n",
              "  6139.521167666758,\n",
              "  6137.814647600657,\n",
              "  6136.1186313377675,\n",
              "  6134.432932935801,\n",
              "  6132.757371873989,\n",
              "  6131.091772834334,\n",
              "  6129.435965494072,\n",
              "  6127.789784328667,\n",
              "  6126.15306842468,\n",
              "  6124.525661301916,\n",
              "  6122.907410744299,\n",
              "  6121.2981686389485,\n",
              "  6119.697790822987,\n",
              "  6118.106136937619,\n",
              "  6116.523070289064,\n",
              "  6114.94845771597,\n",
              "  6113.382169462923,\n",
              "  6111.8240790597165],\n",
              " [0,\n",
              "  1,\n",
              "  2,\n",
              "  3,\n",
              "  4,\n",
              "  5,\n",
              "  6,\n",
              "  7,\n",
              "  8,\n",
              "  9,\n",
              "  10,\n",
              "  11,\n",
              "  12,\n",
              "  13,\n",
              "  14,\n",
              "  15,\n",
              "  16,\n",
              "  17,\n",
              "  18,\n",
              "  19,\n",
              "  20,\n",
              "  21,\n",
              "  22,\n",
              "  23,\n",
              "  24,\n",
              "  25,\n",
              "  26,\n",
              "  27,\n",
              "  28,\n",
              "  29,\n",
              "  30,\n",
              "  31,\n",
              "  32,\n",
              "  33,\n",
              "  34,\n",
              "  35,\n",
              "  36,\n",
              "  37,\n",
              "  38,\n",
              "  39,\n",
              "  40,\n",
              "  41,\n",
              "  42,\n",
              "  43,\n",
              "  44,\n",
              "  45,\n",
              "  46,\n",
              "  47,\n",
              "  48,\n",
              "  49,\n",
              "  50,\n",
              "  51,\n",
              "  52,\n",
              "  53,\n",
              "  54,\n",
              "  55,\n",
              "  56,\n",
              "  57,\n",
              "  58,\n",
              "  59,\n",
              "  60,\n",
              "  61,\n",
              "  62,\n",
              "  63,\n",
              "  64,\n",
              "  65,\n",
              "  66,\n",
              "  67,\n",
              "  68,\n",
              "  69,\n",
              "  70,\n",
              "  71,\n",
              "  72,\n",
              "  73,\n",
              "  74,\n",
              "  75,\n",
              "  76,\n",
              "  77,\n",
              "  78,\n",
              "  79,\n",
              "  80,\n",
              "  81,\n",
              "  82,\n",
              "  83,\n",
              "  84,\n",
              "  85,\n",
              "  86,\n",
              "  87,\n",
              "  88,\n",
              "  89,\n",
              "  90,\n",
              "  91,\n",
              "  92,\n",
              "  93,\n",
              "  94,\n",
              "  95,\n",
              "  96,\n",
              "  97,\n",
              "  98,\n",
              "  99])"
            ]
          },
          "metadata": {
            "tags": []
          },
          "execution_count": 7
        }
      ]
    },
    {
      "cell_type": "markdown",
      "metadata": {
        "id": "3ToiQGtm0WmB"
      },
      "source": [
        "d. Definir los mismos valores random iniciales para los tres optimizadores (a), (b) y (c). Para todos los casos graficar los gradientes en función de las iteraciones. ¿Qué algoritmo converge más rápido?"
      ]
    },
    {
      "cell_type": "code",
      "metadata": {
        "id": "7gg7TLzc0Zxp",
        "colab": {
          "base_uri": "https://localhost:8080/"
        },
        "outputId": "5b8a2e92-afb2-4834-fe28-67682c284794"
      },
      "source": [
        "np.random.seed(42)\n",
        "x = np.random.randint(1,100)\n",
        "epochs = 100 \n",
        "lr=0.1\n",
        "SGD_loss, SGD_x, SGD_loss_list, SGD_epochs_list =  SGD_minimize_y(x, epochs, lr)\n",
        "sigma = 0.1\n",
        "SGD1o_loss, SGD1o_x, SGD1o_loss_list, SGD1o_epochs_list =  SGD_with_first_order_minimize_y(x, epochs, lr, sigma)\n",
        "SGD2o_loss, SGD2o_x, SGD2o_loss_list, SGD2o_epochs_list =  SGD_with_second_order_minimize_y(x, epochs, lr)"
      ],
      "execution_count": 8,
      "outputs": [
        {
          "output_type": "stream",
          "text": [
            "epoch:  0\n",
            "loss:  2503\n",
            "x:  42.0\n",
            "diferencia con x aterior:  -10.0\n",
            "epoch:  1\n",
            "loss:  1603.0\n",
            "x:  34.0\n",
            "diferencia con x aterior:  -8.0\n",
            "epoch:  2\n",
            "loss:  1027.0\n",
            "x:  27.6\n",
            "diferencia con x aterior:  -6.399999999999999\n",
            "epoch:  3\n",
            "loss:  658.3600000000001\n",
            "x:  22.48\n",
            "diferencia con x aterior:  -5.120000000000001\n",
            "epoch:  4\n",
            "loss:  422.4304\n",
            "x:  18.384\n",
            "diferencia con x aterior:  -4.096\n",
            "epoch:  5\n",
            "loss:  271.435456\n",
            "x:  15.1072\n",
            "diferencia con x aterior:  -3.2767999999999997\n",
            "epoch:  6\n",
            "loss:  174.79869184\n",
            "x:  12.48576\n",
            "diferencia con x aterior:  -2.6214399999999998\n",
            "epoch:  7\n",
            "loss:  112.95116277760002\n",
            "x:  10.388608000000001\n",
            "diferencia con x aterior:  -2.0971519999999995\n",
            "epoch:  8\n",
            "loss:  73.36874417766403\n",
            "x:  8.710886400000001\n",
            "diferencia con x aterior:  -1.6777216\n",
            "epoch:  9\n",
            "loss:  48.03599627370498\n",
            "x:  7.368709120000001\n",
            "diferencia con x aterior:  -1.3421772800000005\n",
            "epoch:  10\n",
            "loss:  31.823037615171184\n",
            "x:  6.294967296000001\n",
            "diferencia con x aterior:  -1.0737418239999998\n",
            "epoch:  11\n",
            "loss:  21.44674407370956\n",
            "x:  5.435973836800001\n",
            "diferencia con x aterior:  -0.8589934592000006\n",
            "epoch:  12\n",
            "loss:  14.805916207174118\n",
            "x:  4.74877906944\n",
            "diferencia con x aterior:  -0.6871947673600003\n",
            "epoch:  13\n",
            "loss:  10.555786372591434\n",
            "x:  4.199023255552\n",
            "diferencia con x aterior:  -0.5497558138879999\n",
            "epoch:  14\n",
            "loss:  7.835703278458518\n",
            "x:  3.7592186044416005\n",
            "diferencia con x aterior:  -0.4398046511103999\n",
            "epoch:  15\n",
            "loss:  6.094850098213453\n",
            "x:  3.40737488355328\n",
            "diferencia con x aterior:  -0.3518437208883203\n",
            "epoch:  16\n",
            "loss:  4.980704062856609\n",
            "x:  3.125899906842624\n",
            "diferencia con x aterior:  -0.28147497671065613\n",
            "epoch:  17\n",
            "loss:  4.2676506002282295\n",
            "x:  2.900719925474099\n",
            "diferencia con x aterior:  -0.2251799813685249\n",
            "epoch:  18\n",
            "loss:  3.8112963841460665\n",
            "x:  2.7205759403792795\n",
            "diferencia con x aterior:  -0.18014398509481966\n",
            "epoch:  19\n",
            "loss:  3.519229685853483\n",
            "x:  2.5764607523034235\n",
            "diferencia con x aterior:  -0.144115188075856\n",
            "epoch:  20\n",
            "loss:  3.332306998946229\n",
            "x:  2.461168601842739\n",
            "diferencia con x aterior:  -0.11529215046068453\n",
            "epoch:  21\n",
            "loss:  3.212676479325587\n",
            "x:  2.3689348814741913\n",
            "diferencia con x aterior:  -0.09223372036854771\n",
            "epoch:  22\n",
            "loss:  3.1361129467683755\n",
            "x:  2.295147905179353\n",
            "diferencia con x aterior:  -0.07378697629483844\n",
            "epoch:  23\n",
            "loss:  3.0871122859317603\n",
            "x:  2.236118324143482\n",
            "diferencia con x aterior:  -0.05902958103587075\n",
            "epoch:  24\n",
            "loss:  3.0557518629963263\n",
            "x:  2.1888946593147858\n",
            "diferencia con x aterior:  -0.04722366482869633\n",
            "epoch:  25\n",
            "loss:  3.0356811923176488\n",
            "x:  2.1511157274518284\n",
            "diferencia con x aterior:  -0.03777893186295733\n",
            "epoch:  26\n",
            "loss:  3.0228359630832955\n",
            "x:  2.1208925819614626\n",
            "diferencia con x aterior:  -0.030223145490365866\n",
            "epoch:  27\n",
            "loss:  3.014615016373309\n",
            "x:  2.09671406556917\n",
            "diferencia con x aterior:  -0.024178516392292515\n",
            "epoch:  28\n",
            "loss:  3.0093536104789176\n",
            "x:  2.077371252455336\n",
            "diferencia con x aterior:  -0.019342813113834012\n",
            "epoch:  29\n",
            "loss:  3.0059863107065072\n",
            "x:  2.061897001964269\n",
            "diferencia con x aterior:  -0.01547425049106721\n",
            "epoch:  30\n",
            "loss:  3.0038312388521646\n",
            "x:  2.049517601571415\n",
            "diferencia con x aterior:  -0.012379400392853679\n",
            "epoch:  31\n",
            "loss:  3.002451992865385\n",
            "x:  2.039614081257132\n",
            "diferencia con x aterior:  -0.00990352031428321\n",
            "optimización abortada en epoch:  31\n",
            "loss:  3.002451992865385\n",
            "x:  2.039614081257132\n",
            "epoch:  0\n",
            "loss:  2503\n",
            "x:  42.0\n",
            "diferencia con x aterior:  -10.0\n",
            "epoch:  1\n",
            "loss:  1603.0\n",
            "x:  33.0\n",
            "diferencia con x aterior:  -9.0\n",
            "epoch:  2\n",
            "loss:  964.0\n",
            "x:  25.9\n",
            "diferencia con x aterior:  -7.100000000000001\n",
            "epoch:  3\n",
            "loss:  574.2099999999999\n",
            "x:  20.409999999999997\n",
            "diferencia con x aterior:  -5.490000000000002\n",
            "epoch:  4\n",
            "loss:  341.92809999999986\n",
            "x:  16.178999999999995\n",
            "diferencia con x aterior:  -4.231000000000002\n",
            "epoch:  5\n",
            "loss:  204.04404099999985\n",
            "x:  12.920099999999996\n",
            "diferencia con x aterior:  -3.258899999999999\n",
            "epoch:  6\n",
            "loss:  122.24858400999992\n",
            "x:  10.410189999999997\n",
            "diferencia con x aterior:  -2.5099099999999996\n",
            "epoch:  7\n",
            "loss:  73.73129583609995\n",
            "x:  8.477160999999997\n",
            "diferencia con x aterior:  -1.9330289999999994\n",
            "epoch:  8\n",
            "loss:  44.95361461992096\n",
            "x:  6.9884258999999975\n",
            "diferencia con x aterior:  -1.4887350999999995\n",
            "epoch:  9\n",
            "loss:  27.884392959790784\n",
            "x:  5.841867209999998\n",
            "diferencia con x aterior:  -1.146558689999999\n",
            "epoch:  10\n",
            "loss:  17.759943659273173\n",
            "x:  4.958837898999999\n",
            "diferencia con x aterior:  -0.8830293109999996\n",
            "epoch:  11\n",
            "loss:  11.754721712558727\n",
            "x:  4.278767388099999\n",
            "diferencia con x aterior:  -0.6800705109000003\n",
            "epoch:  12\n",
            "loss:  8.19278080906809\n",
            "x:  3.755006859389999\n",
            "diferencia con x aterior:  -0.5237605287099996\n",
            "epoch:  13\n",
            "loss:  6.080049076505947\n",
            "x:  3.351629434640999\n",
            "diferencia con x aterior:  -0.40337742474899985\n",
            "epoch:  14\n",
            "loss:  4.826902128587947\n",
            "x:  3.0409658052378994\n",
            "diferencia con x aterior:  -0.3106636294030998\n",
            "epoch:  15\n",
            "loss:  4.083609807674589\n",
            "x:  2.8017062812500093\n",
            "diferencia con x aterior:  -0.23925952398789008\n",
            "epoch:  16\n",
            "loss:  3.642732961395719\n",
            "x:  2.6174390726012184\n",
            "diferencia con x aterior:  -0.18426720864879087\n",
            "epoch:  17\n",
            "loss:  3.3812310083746526\n",
            "x:  2.4755245372160957\n",
            "diferencia con x aterior:  -0.14191453538512278\n",
            "epoch:  18\n",
            "loss:  3.226123585494582\n",
            "x:  2.3662281762343644\n",
            "diferencia con x aterior:  -0.10929636098173123\n",
            "epoch:  19\n",
            "loss:  3.1341230770679487\n",
            "x:  2.2820529048893183\n",
            "diferencia con x aterior:  -0.0841752713450461\n",
            "epoch:  20\n",
            "loss:  3.079553841156503\n",
            "x:  2.21722479677695\n",
            "diferencia con x aterior:  -0.06482810811236828\n",
            "epoch:  21\n",
            "loss:  3.0471866123347873\n",
            "x:  2.1672970266103233\n",
            "diferencia con x aterior:  -0.04992777016662675\n",
            "epoch:  22\n",
            "loss:  3.0279882951126553\n",
            "x:  2.128844844271596\n",
            "diferencia con x aterior:  -0.03845218233872716\n",
            "epoch:  23\n",
            "loss:  3.0166009938953717\n",
            "x:  2.099230657183404\n",
            "diferencia con x aterior:  -0.02961418708819208\n",
            "epoch:  24\n",
            "loss:  3.00984672332505\n",
            "x:  2.076423107037904\n",
            "diferencia con x aterior:  -0.022807550145500066\n",
            "epoch:  25\n",
            "loss:  3.005840491289327\n",
            "x:  2.0588577306157734\n",
            "diferencia con x aterior:  -0.01756537642213063\n",
            "epoch:  26\n",
            "loss:  3.003464232453239\n",
            "x:  2.0453296468504054\n",
            "diferencia con x aterior:  -0.01352808376536796\n",
            "epoch:  27\n",
            "loss:  3.0020547768835826\n",
            "x:  2.0349109091037874\n",
            "diferencia con x aterior:  -0.010418737746618056\n",
            "epoch:  28\n",
            "loss:  3.001218771574453\n",
            "x:  2.026886853508368\n",
            "diferencia con x aterior:  -0.008024055595419188\n",
            "optimización abortada en epoch:  28\n",
            "loss:  3.001218771574453\n",
            "x:  2.026886853508368\n",
            "epoch:  0\n",
            "loss:  2503\n",
            "x:  51.9\n",
            "diferencia con x aterior:  -0.10000000000000142\n",
            "epoch:  1\n",
            "loss:  2493.0099999999998\n",
            "x:  51.82936013873159\n",
            "diferencia con x aterior:  -0.07063986126841115\n",
            "epoch:  2\n",
            "loss:  2485.9651318354126\n",
            "x:  51.77171820498733\n",
            "diferencia con x aterior:  -0.0576419337442573\n",
            "epoch:  3\n",
            "loss:  2480.2239330766674\n",
            "x:  51.72182208804565\n",
            "diferencia con x aterior:  -0.04989611694168161\n",
            "epoch:  4\n",
            "loss:  2475.259591755264\n",
            "x:  51.67721095484278\n",
            "diferencia con x aterior:  -0.04461113320287069\n",
            "epoch:  5\n",
            "loss:  2470.8252882519514\n",
            "x:  51.63650052242612\n",
            "diferencia con x aterior:  -0.040710432416659614\n",
            "epoch:  6\n",
            "loss:  2466.7821841128084\n",
            "x:  51.59882142151555\n",
            "diferencia con x aterior:  -0.03767910091056592\n",
            "epoch:  7\n",
            "loss:  2463.04308640339\n",
            "x:  51.5635856260335\n",
            "diferencia con x aterior:  -0.03523579548205191\n",
            "epoch:  8\n",
            "loss:  2459.5490201091548\n",
            "x:  51.530373537208135\n",
            "diferencia con x aterior:  -0.03321208882536553\n",
            "epoch:  9\n",
            "loss:  2456.2579027353677\n",
            "x:  51.4988733617862\n",
            "diferencia con x aterior:  -0.0315001754219324\n",
            "epoch:  10\n",
            "loss:  2453.138464086148\n",
            "x:  51.468845936692176\n",
            "diferencia con x aterior:  -0.030027425094026228\n",
            "epoch:  11\n",
            "loss:  2450.166718308186\n",
            "x:  51.440103055598925\n",
            "diferencia con x aterior:  -0.02874288109325107\n",
            "epoch:  12\n",
            "loss:  2447.323790148242\n",
            "x:  51.412493459479435\n",
            "diferencia con x aterior:  -0.027609596119489765\n",
            "epoch:  13\n",
            "loss:  2444.594509883098\n",
            "x:  51.38589341950256\n",
            "diferencia con x aterior:  -0.0266000399768771\n",
            "epoch:  14\n",
            "loss:  2441.966468842466\n",
            "x:  51.36020019697355\n",
            "diferencia con x aterior:  -0.025693222529007187\n",
            "epoch:  15\n",
            "loss:  2439.429363485308\n",
            "x:  51.33532737415753\n",
            "diferencia con x aterior:  -0.024872822816021767\n",
            "epoch:  16\n",
            "loss:  2436.9745271152974\n",
            "x:  51.31120144087055\n",
            "diferencia con x aterior:  -0.02412593328698165\n",
            "epoch:  17\n",
            "loss:  2434.5945875421135\n",
            "x:  51.28775924728017\n",
            "diferencia con x aterior:  -0.023442193590376803\n",
            "epoch:  18\n",
            "loss:  2432.283211617852\n",
            "x:  51.264946068566225\n",
            "diferencia con x aterior:  -0.02281317871394606\n",
            "epoch:  19\n",
            "loss:  2430.0349111387386\n",
            "x:  51.24271411089243\n",
            "diferencia con x aterior:  -0.022231957673795932\n",
            "epoch:  20\n",
            "loss:  2427.8448930070845\n",
            "x:  51.22102134161672\n",
            "diferencia con x aterior:  -0.021692769275709622\n",
            "epoch:  21\n",
            "loss:  2425.7089419118884\n",
            "x:  51.19983056168605\n",
            "diferencia con x aterior:  -0.02119077993067009\n",
            "epoch:  22\n",
            "loss:  2423.6233272986165\n",
            "x:  51.17910866162447\n",
            "diferencia con x aterior:  -0.02072190006158081\n",
            "epoch:  23\n",
            "loss:  2421.584728751867\n",
            "x:  51.15882601857063\n",
            "diferencia con x aterior:  -0.020282643053839422\n",
            "epoch:  24\n",
            "loss:  2419.5901755240966\n",
            "x:  51.13895600300171\n",
            "diferencia con x aterior:  -0.01987001556891954\n",
            "epoch:  25\n",
            "loss:  2417.6369970649375\n",
            "x:  51.11947457170251\n",
            "diferencia con x aterior:  -0.019481431299197993\n",
            "epoch:  26\n",
            "loss:  2415.7227822001296\n",
            "x:  51.10035992923798\n",
            "diferencia con x aterior:  -0.019114642464529652\n",
            "epoch:  27\n",
            "loss:  2413.845345180719\n",
            "x:  51.081592244345266\n",
            "diferencia con x aterior:  -0.01876768489271541\n",
            "epoch:  28\n",
            "loss:  2412.0026972401733\n",
            "x:  51.063153410734266\n",
            "diferencia con x aterior:  -0.018438833611000405\n",
            "epoch:  29\n",
            "loss:  2410.1930226052455\n",
            "x:  51.045026844083154\n",
            "diferencia con x aterior:  -0.01812656665111234\n",
            "epoch:  30\n",
            "loss:  2408.4146581368373\n",
            "x:  51.02719730875241\n",
            "diferencia con x aterior:  -0.017829535330740498\n",
            "epoch:  31\n",
            "loss:  2406.6660759513397\n",
            "x:  51.00965076906731\n",
            "diferencia con x aterior:  -0.01754653968509956\n",
            "epoch:  32\n",
            "loss:  2404.9458685059403\n",
            "x:  50.99237426104137\n",
            "diferencia con x aterior:  -0.017276508025943826\n",
            "epoch:  33\n",
            "loss:  2403.252735733949\n",
            "x:  50.97535578120854\n",
            "diferencia con x aterior:  -0.017018479832827893\n",
            "epoch:  34\n",
            "loss:  2401.585473895957\n",
            "x:  50.95858418985537\n",
            "diferencia con x aterior:  -0.016771591353169413\n",
            "epoch:  35\n",
            "loss:  2399.9429658751565\n",
            "x:  50.94204912643711\n",
            "diferencia con x aterior:  -0.016535063418260165\n",
            "epoch:  36\n",
            "loss:  2398.324172694584\n",
            "x:  50.925740935353716\n",
            "diferencia con x aterior:  -0.01630819108339665\n",
            "epoch:  37\n",
            "loss:  2396.728126073346\n",
            "x:  50.90965060057602\n",
            "diferencia con x aterior:  -0.016090334777693727\n",
            "epoch:  38\n",
            "loss:  2395.1539218704265\n",
            "x:  50.893769687865536\n",
            "diferencia con x aterior:  -0.015880912710485973\n",
            "epoch:  39\n",
            "loss:  2393.600714290039\n",
            "x:  50.878090293536886\n",
            "diferencia con x aterior:  -0.015679394328650176\n",
            "epoch:  40\n",
            "loss:  2392.0677107431447\n",
            "x:  50.86260499887971\n",
            "diferencia con x aterior:  -0.015485294657175075\n",
            "epoch:  41\n",
            "loss:  2390.5541672765444\n",
            "x:  50.847306829494165\n",
            "diferencia con x aterior:  -0.01529816938554518\n",
            "epoch:  42\n",
            "loss:  2389.0593844947475\n",
            "x:  50.83218921890782\n",
            "diferencia con x aterior:  -0.015117610586344199\n",
            "epoch:  43\n",
            "loss:  2387.5827039112173\n",
            "x:  50.81724597593558\n",
            "diferencia con x aterior:  -0.014943242972243809\n",
            "epoch:  44\n",
            "loss:  2386.1235046749985\n",
            "x:  50.80247125532243\n",
            "diferencia con x aterior:  -0.014774720613146997\n",
            "epoch:  45\n",
            "loss:  2384.6812006265723\n",
            "x:  50.78785953127438\n",
            "diferencia con x aterior:  -0.01461172404805211\n",
            "epoch:  46\n",
            "loss:  2383.25523764336\n",
            "x:  50.773405573537644\n",
            "diferencia con x aterior:  -0.014453957736733969\n",
            "epoch:  47\n",
            "loss:  2381.845091240793\n",
            "x:  50.759104425732566\n",
            "diferencia con x aterior:  -0.014301147805078074\n",
            "epoch:  48\n",
            "loss:  2380.4502643994933\n",
            "x:  50.74495138568781\n",
            "diferencia con x aterior:  -0.014153040044753595\n",
            "epoch:  49\n",
            "loss:  2379.070285593068\n",
            "x:  50.73094198755368\n",
            "diferencia con x aterior:  -0.014009398134135154\n",
            "epoch:  50\n",
            "loss:  2377.704706994322\n",
            "x:  50.71707198550166\n",
            "diferencia con x aterior:  -0.013870002052016162\n",
            "epoch:  51\n",
            "loss:  2376.353102840551\n",
            "x:  50.70333733884168\n",
            "diferencia con x aterior:  -0.013734646659983696\n",
            "epoch:  52\n",
            "loss:  2375.01506794101\n",
            "x:  50.689734198409106\n",
            "diferencia con x aterior:  -0.013603140432572047\n",
            "epoch:  53\n",
            "loss:  2373.6902163117293\n",
            "x:  50.67625889409167\n",
            "diferencia con x aterior:  -0.013475304317438486\n",
            "epoch:  54\n",
            "loss:  2372.378179924638\n",
            "x:  50.66290792338166\n",
            "diferencia con x aterior:  -0.01335097071000746\n",
            "epoch:  55\n",
            "loss:  2371.0786075595215\n",
            "x:  50.64967794085234\n",
            "diferencia con x aterior:  -0.013229982529317397\n",
            "epoch:  56\n",
            "loss:  2369.791163748655\n",
            "x:  50.63656574846892\n",
            "diferencia con x aterior:  -0.013112192383424315\n",
            "epoch:  57\n",
            "loss:  2368.5155278051398\n",
            "x:  50.62356828665459\n",
            "diferencia con x aterior:  -0.01299746181432937\n",
            "epoch:  58\n",
            "loss:  2367.2513929269617\n",
            "x:  50.610682626041005\n",
            "diferencia con x aterior:  -0.012885660613584093\n",
            "epoch:  59\n",
            "loss:  2365.9984653696847\n",
            "x:  50.59790595984012\n",
            "diferencia con x aterior:  -0.012776666200885245\n",
            "epoch:  60\n",
            "loss:  2364.7564636814636\n",
            "x:  50.58523559678113\n",
            "diferencia con x aterior:  -0.012670363058987277\n",
            "epoch:  61\n",
            "loss:  2363.5251179947286\n",
            "x:  50.57266895456222\n",
            "diferencia con x aterior:  -0.012566642218914126\n",
            "epoch:  62\n",
            "loss:  2362.3041693694922\n",
            "x:  50.56020355377192\n",
            "diferencia con x aterior:  -0.012465400790297565\n",
            "epoch:  63\n",
            "loss:  2361.093369183763\n",
            "x:  50.54783701223966\n",
            "diferencia con x aterior:  -0.012366541532259134\n",
            "epoch:  64\n",
            "loss:  2359.892478566987\n",
            "x:  50.53556703977894\n",
            "diferencia con x aterior:  -0.01226997246072159\n",
            "epoch:  65\n",
            "loss:  2358.7012678728756\n",
            "x:  50.52339143329033\n",
            "diferencia con x aterior:  -0.012175606488611379\n",
            "epoch:  66\n",
            "loss:  2357.519516188313\n",
            "x:  50.511308072194645\n",
            "diferencia con x aterior:  -0.012083361095683642\n",
            "epoch:  67\n",
            "loss:  2356.3470108753772\n",
            "x:  50.49931491416951\n",
            "diferencia con x aterior:  -0.011993158025134676\n",
            "epoch:  68\n",
            "loss:  2355.183547143785\n",
            "x:  50.487409991164974\n",
            "diferencia con x aterior:  -0.011904923004536272\n",
            "epoch:  69\n",
            "loss:  2354.028927651325\n",
            "x:  50.475591405676234\n",
            "diferencia con x aterior:  -0.011818585488740041\n",
            "epoch:  70\n",
            "loss:  2352.8829621300715\n",
            "x:  50.463857327253436\n",
            "diferencia con x aterior:  -0.011734078422797722\n",
            "epoch:  71\n",
            "loss:  2351.7454670363763\n",
            "x:  50.45220598923042\n",
            "diferencia con x aterior:  -0.011651338023014546\n",
            "epoch:  72\n",
            "loss:  2350.6162652228163\n",
            "x:  50.440635685655806\n",
            "diferencia con x aterior:  -0.011570303574615082\n",
            "epoch:  73\n",
            "loss:  2349.4951856304306\n",
            "x:  50.42914476841135\n",
            "diferencia con x aterior:  -0.011490917244458387\n",
            "epoch:  74\n",
            "loss:  2348.3820629997444\n",
            "x:  50.417731644503824\n",
            "diferencia con x aterior:  -0.01141312390752347\n",
            "epoch:  75\n",
            "loss:  2347.276737599187\n",
            "x:  50.40639477351777\n",
            "diferencia con x aterior:  -0.011336870986056624\n",
            "epoch:  76\n",
            "loss:  2346.1790549696484\n",
            "x:  50.39513266521759\n",
            "diferencia con x aterior:  -0.011262108300179818\n",
            "epoch:  77\n",
            "loss:  2345.08886568401\n",
            "x:  50.3839438772885\n",
            "diferencia con x aterior:  -0.011188787929086175\n",
            "epoch:  78\n",
            "loss:  2344.0060251206037\n",
            "x:  50.372827013206525\n",
            "diferencia con x aterior:  -0.011116864081976985\n",
            "epoch:  79\n",
            "loss:  2342.9303932496027\n",
            "x:  50.3617807202287\n",
            "diferencia con x aterior:  -0.011046292977823668\n",
            "epoch:  80\n",
            "loss:  2341.8618344314846\n",
            "x:  50.35080368749533\n",
            "diferencia con x aterior:  -0.010977032733372027\n",
            "epoch:  81\n",
            "loss:  2340.800217226712\n",
            "x:  50.33989464423664\n",
            "diferencia con x aterior:  -0.010909043258692463\n",
            "epoch:  82\n",
            "loss:  2339.7454142158977\n",
            "x:  50.329052358077035\n",
            "diferencia con x aterior:  -0.010842286159601144\n",
            "epoch:  83\n",
            "loss:  2338.6973018297513\n",
            "x:  50.318275633430446\n",
            "diferencia con x aterior:  -0.010776724646589741\n",
            "epoch:  84\n",
            "loss:  2337.655760188158\n",
            "x:  50.30756330998087\n",
            "diferencia con x aterior:  -0.010712323449574512\n",
            "epoch:  85\n",
            "loss:  2336.62067294781\n",
            "x:  50.2969142612427\n",
            "diferencia con x aterior:  -0.010649048738173406\n",
            "epoch:  86\n",
            "loss:  2335.591927157828\n",
            "x:  50.28632739319568\n",
            "diferencia con x aterior:  -0.010586868047020914\n",
            "epoch:  87\n",
            "loss:  2334.5694131228793\n",
            "x:  50.27580164298992\n",
            "diferencia con x aterior:  -0.0105257502057583\n",
            "epoch:  88\n",
            "loss:  2333.553024273308\n",
            "x:  50.26533597771657\n",
            "diferencia con x aterior:  -0.010465665273351021\n",
            "epoch:  89\n",
            "loss:  2332.5426570418613\n",
            "x:  50.254929393240104\n",
            "diferencia con x aterior:  -0.010406584476463365\n",
            "epoch:  90\n",
            "loss:  2331.538210746588\n",
            "x:  50.24458091308854\n",
            "diferencia con x aterior:  -0.010348480151563422\n",
            "epoch:  91\n",
            "loss:  2330.539587479547\n",
            "x:  50.23428958739809\n",
            "diferencia con x aterior:  -0.01029132569045288\n",
            "epoch:  92\n",
            "loss:  2329.5466920009794\n",
            "x:  50.224054491909\n",
            "diferencia con x aterior:  -0.010235095489086632\n",
            "epoch:  93\n",
            "loss:  2328.5594316386087\n",
            "x:  50.21387472700963\n",
            "diferencia con x aterior:  -0.010179764899369559\n",
            "epoch:  94\n",
            "loss:  2327.577716191778\n",
            "x:  50.203749416825886\n",
            "diferencia con x aterior:  -0.01012531018374574\n",
            "epoch:  95\n",
            "loss:  2326.601457840142\n",
            "x:  50.19367770835348\n",
            "diferencia con x aterior:  -0.010071708472402463\n",
            "epoch:  96\n",
            "loss:  2325.6305710566476\n",
            "x:  50.183658770630586\n",
            "diferencia con x aterior:  -0.010018937722897192\n",
            "epoch:  97\n",
            "loss:  2324.6649725245657\n",
            "x:  50.173691793948485\n",
            "diferencia con x aterior:  -0.009966976682100892\n",
            "epoch:  98\n",
            "loss:  2323.7045810583395\n",
            "x:  50.1637759890983\n",
            "diferencia con x aterior:  -0.009915804850187726\n",
            "epoch:  99\n",
            "loss:  2322.7493175280415\n",
            "x:  50.153910586651634\n",
            "diferencia con x aterior:  -0.009865402446664007\n"
          ],
          "name": "stdout"
        }
      ]
    },
    {
      "cell_type": "code",
      "metadata": {
        "colab": {
          "base_uri": "https://localhost:8080/",
          "height": 609
        },
        "id": "yb6ubPy6_Xqd",
        "outputId": "46279a73-dbff-4a5d-b4e6-89e5d9a419c0"
      },
      "source": [
        "# ouput of the optimizers\n",
        "fig, ax1 = plt.subplots(1,1, figsize=(20,10))\n",
        "ax1.plot(SGD_epochs_list, SGD_loss_list, label = 'Loss SGD')\n",
        "ax1.plot(SGD1o_epochs_list, SGD1o_loss_list, label = 'Loss SGD with 1st order mom')\n",
        "ax1.plot(SGD2o_epochs_list, SGD2o_loss_list, label = 'Loss SGD with 2nd order mom')\n",
        "ax1.legend()"
      ],
      "execution_count": 9,
      "outputs": [
        {
          "output_type": "execute_result",
          "data": {
            "text/plain": [
              "<matplotlib.legend.Legend at 0x7f0f9cdd3bd0>"
            ]
          },
          "metadata": {
            "tags": []
          },
          "execution_count": 9
        },
        {
          "output_type": "display_data",
          "data": {
            "image/png": "[encoded data removed]",
            "text/plain": [
              "<Figure size 1440x720 with 1 Axes>"
            ]
          },
          "metadata": {
            "tags": [],
            "needs_background": "light"
          }
        }
      ]
    },
    {
      "cell_type": "markdown",
      "metadata": {
        "id": "bFHShEgIAZ5f"
      },
      "source": [
        "El algoritmo de SGD con momento de primer orden es el que converge más rápido."
      ]
    },
    {
      "cell_type": "markdown",
      "metadata": {
        "id": "aMICTapf0apj"
      },
      "source": [
        "# 2. Backpropagation y regla de la cadena"
      ]
    },
    {
      "cell_type": "markdown",
      "metadata": {
        "id": "5lYkj_nu0jos"
      },
      "source": [
        "a. Automatic Differentiation: para el grafo de cómputo que se muestra en la siguiente imagen, con a=1, b=2 y c=3, calcular el valor final de Y y la derivada de Y respecto a cada una de las entradas (a, b y c). Para hacer el cálculo, primero realizar el paso forward y luego utilizar backpropagation con la regla de la cadena."
      ]
    },
    {
      "cell_type": "markdown",
      "metadata": {
        "id": "YDFrb4Qj0ofU"
      },
      "source": [
        "![Captura.PNG](data:image/png;base64,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)"
      ]
    },
    {
      "cell_type": "code",
      "metadata": {
        "id": "8l6i5sVY0nrV"
      },
      "source": [
        "a = 1\n",
        "b = 2\n",
        "c = 3\n",
        "d = a + b\n",
        "e = b - c \n",
        "Y = d * e"
      ],
      "execution_count": 10,
      "outputs": []
    },
    {
      "cell_type": "code",
      "metadata": {
        "id": "lzP81JiQ1VFs"
      },
      "source": [
        "# Paso Forward\n",
        "d = a + b\n",
        "e = b - c \n",
        "\n",
        "Y = d * e\n",
        "\n",
        "# Paso Backward\n",
        "der_Y_d = e\n",
        "der_d_a = 1\n",
        "der_d_b = 1 \n",
        "\n",
        "der_Y_a = der_Y_d * der_d_a\n",
        "der_Y_bd = der_Y_d * der_d_b\n",
        "\n",
        "der_Y_e = d\n",
        "der_e_b = 1 \n",
        "der_e_c = -1 \n",
        "\n",
        "der_Y_c = der_Y_e * der_e_c\n",
        "der_Y_be = der_Y_e * der_e_b\n",
        "\n",
        "der_Y_b = der_Y_bd + der_Y_be"
      ],
      "execution_count": 11,
      "outputs": []
    },
    {
      "cell_type": "code",
      "metadata": {
        "colab": {
          "base_uri": "https://localhost:8080/"
        },
        "id": "zM5_NaeI3eXh",
        "outputId": "183f82c6-520e-4b6e-d208-16ca67484828"
      },
      "source": [
        "print(der_Y_a)\n",
        "print(der_Y_b)\n",
        "print(der_Y_c)"
      ],
      "execution_count": 12,
      "outputs": [
        {
          "output_type": "stream",
          "text": [
            "-1\n",
            "2\n",
            "-3\n"
          ],
          "name": "stdout"
        }
      ]
    },
    {
      "cell_type": "markdown",
      "metadata": {
        "id": "InCGwTuC39XL"
      },
      "source": [
        "b. Numerical Differentiation: para el grafo de cómputo que se muestra en la siguiente imagen, con a=1, b=2 y c=3, utilizar la siguiente expresión y un valor de h pequeño para calcular las derivadas respecto de cada entrada. Comparar los resultados con los obtenidos en el punto (a)"
      ]
    },
    {
      "cell_type": "markdown",
      "metadata": {
        "id": "b8CTK7R04JFE"
      },
      "source": [
        "![Captura2.PNG](data:image/png;base64,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)"
      ]
    },
    {
      "cell_type": "code",
      "metadata": {
        "id": "w_KuTnZc4t3B"
      },
      "source": [
        "a = 1\n",
        "b = 2\n",
        "c = 3\n",
        "h = 0.01\n",
        "\n",
        "d = a + b\n",
        "e = b - c \n",
        "Y = d * e \n",
        " \n",
        "y_ah = (a + h + b) * e\n",
        "y_bh = (a + b + h) * (b + h - c)\n",
        "y_ch = d * (b - c + h)"
      ],
      "execution_count": 13,
      "outputs": []
    },
    {
      "cell_type": "code",
      "metadata": {
        "id": "TxeXPD9JBQPU"
      },
      "source": [
        "der_y_a = (y_ah-Y)/h\n",
        "der_y_b = (y_bh-Y)/h\n",
        "der_y_c = (y_ch-Y)/h"
      ],
      "execution_count": 14,
      "outputs": []
    },
    {
      "cell_type": "code",
      "metadata": {
        "colab": {
          "base_uri": "https://localhost:8080/"
        },
        "id": "597ild7fBnS1",
        "outputId": "fbcefbdc-f7c8-4f3c-ec2e-d5fb56188c7b"
      },
      "source": [
        "print(der_y_a)\n",
        "print(der_y_b)\n",
        "print(der_y_c)"
      ],
      "execution_count": 15,
      "outputs": [
        {
          "output_type": "stream",
          "text": [
            "-0.9999999999999787\n",
            "2.0099999999999785\n",
            "3.000000000000025\n"
          ],
          "name": "stdout"
        }
      ]
    },
    {
      "cell_type": "markdown",
      "metadata": {
        "id": "MbCqH8-OBuo_"
      },
      "source": [
        "# 3. Deep Learning y Regularización"
      ]
    },
    {
      "cell_type": "markdown",
      "metadata": {
        "id": "JZLVm5fCCM5W"
      },
      "source": [
        "a.Crear un dataset sintético con 10,000 muestras a partir de la siguiente expresión, donde N es una normal de media cero y desvío 0.2. Utilizar 80% de los datos para entrenamiento y 20% de los datos para testing.\n",
        "\n",
        "$ y = (x-2)^2 + 3 + N $"
      ]
    },
    {
      "cell_type": "code",
      "metadata": {
        "id": "qvzqigIeBuba"
      },
      "source": [
        "np.random.seed(42)\n",
        "N = np.random.normal(0,0.2,size = 10000)\n",
        "x = np.random.uniform(-10,10,size = 10000)\n",
        "y = np.power((x-2),2)+3+N"
      ],
      "execution_count": 16,
      "outputs": []
    },
    {
      "cell_type": "code",
      "metadata": {
        "colab": {
          "base_uri": "https://localhost:8080/",
          "height": 609
        },
        "id": "LlHTVfhyB40U",
        "outputId": "b412b902-484d-4f24-9781-26daf56a7602"
      },
      "source": [
        "plt.subplots(figsize=(20,10))\n",
        "plt.scatter(x,y)"
      ],
      "execution_count": 17,
      "outputs": [
        {
          "output_type": "execute_result",
          "data": {
            "text/plain": [
              "<matplotlib.collections.PathCollection at 0x7f0f9c865890>"
            ]
          },
          "metadata": {
            "tags": []
          },
          "execution_count": 17
        },
        {
          "output_type": "display_data",
          "data": {
            "image/png": "[encoded data removed]",
            "text/plain": [
              "<Figure size 1440x720 with 1 Axes>"
            ]
          },
          "metadata": {
            "tags": [],
            "needs_background": "light"
          }
        }
      ]
    },
    {
      "cell_type": "markdown",
      "metadata": {
        "id": "gSdx7uXlCQOX"
      },
      "source": [
        "### Normalizo los datos"
      ]
    },
    {
      "cell_type": "code",
      "metadata": {
        "id": "J2bGTpX64Qlq"
      },
      "source": [
        "normalized_x = (x - np.min(x)) / (np.max(x) - np.min(x))\n",
        "normalized_y = (y - np.min(y)) / (np.max(y) - np.min(y))"
      ],
      "execution_count": 18,
      "outputs": []
    },
    {
      "cell_type": "code",
      "metadata": {
        "colab": {
          "base_uri": "https://localhost:8080/",
          "height": 609
        },
        "id": "NihgtLPOCFQG",
        "outputId": "b892c3da-f611-4945-f29f-53e857ff8f94"
      },
      "source": [
        "plt.subplots(figsize=(20,10))\n",
        "plt.scatter(normalized_x,normalized_y)"
      ],
      "execution_count": 19,
      "outputs": [
        {
          "output_type": "execute_result",
          "data": {
            "text/plain": [
              "<matplotlib.collections.PathCollection at 0x7f0f9c8910d0>"
            ]
          },
          "metadata": {
            "tags": []
          },
          "execution_count": 19
        },
        {
          "output_type": "display_data",
          "data": {
            "image/png": "[encoded data removed]",
            "text/plain": [
              "<Figure size 1440x720 with 1 Axes>"
            ]
          },
          "metadata": {
            "tags": [],
            "needs_background": "light"
          }
        }
      ]
    },
    {
      "cell_type": "code",
      "metadata": {
        "id": "lNpwboueE-rd"
      },
      "source": [
        "# Dataset split\n",
        "n = x.shape[0]\n",
        "idx = np.random.permutation(np.arange(0, n))\n",
        "train_idx = idx[:int(0.8 * n)]\n",
        "test_idx = idx[int(0.8 * n):]\n",
        "assert len(train_idx) + len(test_idx) == len(idx)\n",
        "\n",
        "X_train = normalized_x[train_idx]\n",
        "y_train = normalized_y[train_idx]\n",
        "\n",
        "X_test = normalized_x[test_idx]\n",
        "y_test = normalized_y[test_idx]"
      ],
      "execution_count": 20,
      "outputs": []
    },
    {
      "cell_type": "markdown",
      "metadata": {
        "id": "2J_FpRYkClsY"
      },
      "source": [
        "b.Suponer que se tiene un modelo, tal que la relación entre la salida y la entrada está dada por la ecuación presentada a continuación. Suponiendo que se va a utilizar mini-batch SGD para encontrar los valores óptimos de los pesos w1, w2 y w3 tal que minimizan el ECM (Error Cuadrático Medio) (el ECM es la función de costo para este problema), ¿Cuál sería la regla de actualización de cada parámetro?. Implementar el algoritmo en Python (usar mini-batch), encontrar los valores óptimos para w1, w2 y w3 y reportar ECM sobre dataset de entrenamiento y dataset de testing.\n",
        "\n",
        "$\\hat{y} = w_1 x^2 + w_2x + w_3$"
      ]
    },
    {
      "cell_type": "markdown",
      "metadata": {
        "id": "Riw3_jcZGq11"
      },
      "source": [
        "Armo los arreglos de X para que queden de la forma X^2,X,1"
      ]
    },
    {
      "cell_type": "code",
      "metadata": {
        "id": "ENnF8ZCgTkrP"
      },
      "source": [
        "X_train2 = np.zeros(shape=(X_train.shape[0],3))\n",
        "X_train2[:,0] = np.power(X_train,2)\n",
        "X_train2[:,1] = X_train\n",
        "X_train2[:,2] = np.ones(shape=(X_train.shape[0],))"
      ],
      "execution_count": 21,
      "outputs": []
    },
    {
      "cell_type": "code",
      "metadata": {
        "id": "mLPgmDZVUPwK"
      },
      "source": [
        "X_test2 = np.zeros(shape=(X_test.shape[0],3))\n",
        "X_test2[:,0] = np.power(X_test,2)\n",
        "X_test2[:,1] = X_test\n",
        "X_test2[:,2] = np.ones(shape=(X_test.shape[0],))"
      ],
      "execution_count": 22,
      "outputs": []
    },
    {
      "cell_type": "code",
      "metadata": {
        "id": "eg4bPzaMU3hQ"
      },
      "source": [
        "class Metric(object):\n",
        "    def __call__(self, target, prediction):\n",
        "        return NotImplemented\n",
        "\n",
        "\n",
        "class MSE(Metric):\n",
        "    def __init__(self):\n",
        "        Metric.__init__(self)\n",
        "\n",
        "    def __call__(self, target, prediction):\n",
        "        n = target.size\n",
        "        return np.sum((target - prediction) ** 2) / n"
      ],
      "execution_count": 23,
      "outputs": []
    },
    {
      "cell_type": "code",
      "metadata": {
        "id": "E_jWHU-iKmwi"
      },
      "source": [
        "def mini_batch_gradient_descent(X_train, X_val, y_train, y_val, lr=0.001, amt_epochs=100, batches=10):\n",
        "    \"\"\"\n",
        "    shapes:\n",
        "        X_t = nxm\n",
        "        y_t = nx1\n",
        "        W = mx1\n",
        "    \"\"\"\n",
        "    n = X_train.shape[0]\n",
        "    m = X_train.shape[1]\n",
        "\n",
        "    # initialize random weights\n",
        "    W = np.random.randn(m).reshape(m, 1)\n",
        "    w_list = []\n",
        "    \n",
        "    mse_train_list = []\n",
        "    mse_val_list=[]\n",
        "    \n",
        "    MSE_Metric = MSE()\n",
        "\n",
        "    for epoch in range(amt_epochs):\n",
        "        # Shuffle samples\n",
        "        idx = np.random.permutation(X_train.shape[0])\n",
        "        X_train_sh = X_train[idx]\n",
        "        y_train_sh = y_train[idx]\n",
        "\n",
        "        #Define batch_size\n",
        "        batch_size = int(len(X_train) / batches)\n",
        "\n",
        "        train_loss = np.zeros(batches)\n",
        "        test_loss = np.zeros(batches)\n",
        "\n",
        "        for i in range(0, len(X_train_sh), batch_size):\n",
        "            end = i + batch_size if i + batch_size <= len(X_train) else len(X_train)\n",
        "            batch_X = X_train_sh[i: end]\n",
        "            batch_y = y_train_sh[i: end].reshape(-1,1)\n",
        "\n",
        "            # Prediction\n",
        "            prediction = np.matmul(batch_X, W)  # nx1\n",
        "            error = batch_y - prediction  # nx1\n",
        "\n",
        "            grad_sum = np.sum(batch_X * error, axis=0)\n",
        "            grad_mul = -2/len(batch_X) * grad_sum  # 1xm\n",
        "            gradient = np.transpose(grad_mul).reshape(-1, 1)  # mx1\n",
        "\n",
        "            W = W - (lr * gradient)\n",
        "        \n",
        "        w_list.append(W)\n",
        "        \n",
        "        prediction_train = X_train.dot(W)\n",
        "        prediction_val = X_val.dot(W)\n",
        "        \n",
        "        mse_train_list.append(MSE_Metric(y_train, prediction_train))\n",
        "        mse_val_list.append(MSE_Metric(y_val, prediction_val))\n",
        "        \n",
        "    return W, w_list, mse_train_list, mse_val_list, amt_epochs"
      ],
      "execution_count": 24,
      "outputs": []
    },
    {
      "cell_type": "code",
      "metadata": {
        "id": "QTi26PkgaRpv"
      },
      "source": [
        " W, w_list, mse_train_list, mse_val_list, amt_epochs = mini_batch_gradient_descent (X_train=X_train2, X_val=X_test2, y_train=y_train, y_val=y_test, lr=0.001, amt_epochs=100, batches=10)"
      ],
      "execution_count": 25,
      "outputs": []
    },
    {
      "cell_type": "code",
      "metadata": {
        "colab": {
          "base_uri": "https://localhost:8080/",
          "height": 282
        },
        "id": "f4cV6JZSG-eT",
        "outputId": "2edc7387-07dd-46c4-e33a-9dc9477e6aa5"
      },
      "source": [
        "plt.plot(range(amt_epochs), mse_train_list, color='r', label='mse_train')\n",
        "plt.plot(range(amt_epochs), mse_val_list, color='b', label='mse_test')\n",
        "plt.legend()"
      ],
      "execution_count": 26,
      "outputs": [
        {
          "output_type": "execute_result",
          "data": {
            "text/plain": [
              "<matplotlib.legend.Legend at 0x7f0f9c7b5790>"
            ]
          },
          "metadata": {
            "tags": []
          },
          "execution_count": 26
        },
        {
          "output_type": "display_data",
          "data": {
            "image/png": "[encoded data removed]",
            "text/plain": [
              "<Figure size 432x288 with 1 Axes>"
            ]
          },
          "metadata": {
            "tags": [],
            "needs_background": "light"
          }
        }
      ]
    },
    {
      "cell_type": "markdown",
      "metadata": {
        "id": "X_zBn9uKDaM1"
      },
      "source": [
        "c.Ahora se le agrega regularización l2 a la función de costo, ¿cómo cambia la regla de actualización de cada parámetro?. Implementar el algoritmo en Python (usar mini-batch), encontrar los valores óptimos para w1, w2 y w3 y reportar ECM sobre dataset de entrenamiento y dataset de testing. Seleccionar manualmente los parámetros para el learning rate y para el coeficiente de regularización."
      ]
    },
    {
      "cell_type": "code",
      "metadata": {
        "id": "WkQF9oVODjMy"
      },
      "source": [
        "def mini_batch_gradient_descent_with_l2(X_train, X_val, y_train, y_val, lr=0.001, amt_epochs=100, batches=10, L2_reg=0.1):\n",
        "    \"\"\"\n",
        "    shapes:\n",
        "        X_t = nxm\n",
        "        y_t = nx1\n",
        "        W = mx1\n",
        "    \"\"\"\n",
        "    n = X_train.shape[0]\n",
        "    m = X_train.shape[1]\n",
        "\n",
        "    # initialize random weights\n",
        "    W = np.random.randn(m).reshape(m, 1)\n",
        "    w_list = []\n",
        "    \n",
        "    mse_train_list = []\n",
        "    mse_val_list=[]\n",
        "    \n",
        "    MSE_Metric = MSE()\n",
        "\n",
        "    for epoch in range(amt_epochs):\n",
        "        # Shuffle samples\n",
        "        idx = np.random.permutation(X_train.shape[0])\n",
        "        X_train_sh = X_train[idx]\n",
        "        y_train_sh = y_train[idx]\n",
        "\n",
        "        #Define batch_size\n",
        "        batch_size = int(len(X_train) / batches)\n",
        "\n",
        "        train_loss = np.zeros(batches)\n",
        "        test_loss = np.zeros(batches)\n",
        "\n",
        "        for i in range(0, len(X_train_sh), batch_size):\n",
        "            end = i + batch_size if i + batch_size <= len(X_train) else len(X_train)\n",
        "            batch_X = X_train_sh[i: end]\n",
        "            batch_y = y_train_sh[i: end].reshape(-1,1)\n",
        "\n",
        "            # Prediction\n",
        "            prediction = np.matmul(batch_X, W)  # nx1\n",
        "            error = batch_y - prediction  # nx1\n",
        "\n",
        "            grad_sum = np.sum(batch_X * error, axis=0)\n",
        "            grad_mul = -2/len(batch_X) * grad_sum  # 1xm\n",
        "            gradient = np.transpose(grad_mul).reshape(-1, 1)  # mx1\n",
        "\n",
        "            W = (1-L2_reg*lr)*W - (lr * gradient)\n",
        "        \n",
        "        w_list.append(W)\n",
        "        \n",
        "        prediction_train = X_train.dot(W)\n",
        "        prediction_val = X_val.dot(W)\n",
        "        \n",
        "        mse_train_list.append(MSE_Metric(y_train, prediction_train))\n",
        "        mse_val_list.append(MSE_Metric(y_val, prediction_val))\n",
        "        \n",
        "    return W, w_list, mse_train_list, mse_val_list, amt_epochs"
      ],
      "execution_count": 27,
      "outputs": []
    },
    {
      "cell_type": "code",
      "metadata": {
        "id": "4xpb-IRdKHcX"
      },
      "source": [
        " W, w_list, mse_train_list, mse_val_list, amt_epochs = mini_batch_gradient_descent_with_l2(X_train=X_train2, X_val=X_test2, y_train=y_train, y_val=y_test, lr=0.001, amt_epochs=100, batches=10, L2_reg=1)"
      ],
      "execution_count": 28,
      "outputs": []
    },
    {
      "cell_type": "code",
      "metadata": {
        "colab": {
          "base_uri": "https://localhost:8080/",
          "height": 282
        },
        "id": "giZCFTKfKHTz",
        "outputId": "8f3e939a-9f92-4eef-c595-668ef971c480"
      },
      "source": [
        "plt.plot(range(amt_epochs), mse_train_list, color='r', label='mse_train')\n",
        "plt.plot(range(amt_epochs), mse_val_list, color='b', label='mse_test')\n",
        "plt.legend()"
      ],
      "execution_count": 29,
      "outputs": [
        {
          "output_type": "execute_result",
          "data": {
            "text/plain": [
              "<matplotlib.legend.Legend at 0x7f0f946e1fd0>"
            ]
          },
          "metadata": {
            "tags": []
          },
          "execution_count": 29
        },
        {
          "output_type": "display_data",
          "data": {
            "image/png": "[encoded data removed]",
            "text/plain": [
              "<Figure size 432x288 with 1 Axes>"
            ]
          },
          "metadata": {
            "tags": [],
            "needs_background": "light"
          }
        }
      ]
    },
    {
      "cell_type": "markdown",
      "metadata": {
        "id": "JKrvFXsFDjr5"
      },
      "source": [
        "d.En lugar de seleccionar manualmente el learning rate y el coeficiente de regularización, utiliza el 10% del dataset de entrenamiento como dataset de validación. Hacer una búsqueda (grid search) de los hiper parámetros que mejor resultado te dan para el ECM sobre el dataset de validación. Luego, utiliza los mejores hiper parámetros para reportar las métricas sobre el dataset de testing."
      ]
    },
    {
      "cell_type": "code",
      "metadata": {
        "id": "TXxiIBTLDrPI"
      },
      "source": [
        "# Dataset train split\n",
        "n = X_train2.shape[0]\n",
        "idx = np.random.permutation(np.arange(0, n))\n",
        "train_idx = idx[:int(0.9 * n)]\n",
        "test_idx = idx[int(0.9 * n):]\n",
        "\n",
        "assert len(train_idx) + len(test_idx) == len(idx)\n",
        "\n",
        "X_train_grid = X_train2[train_idx]\n",
        "y_train_grid = y_train[train_idx]\n",
        "\n",
        "X_valid_grid = X_train2[test_idx]\n",
        "y_valid_grid = y_train[test_idx]\n",
        "\n",
        "lr_list = [0.00001,0.0001,0.001,0.01]\n",
        "L2_list = [0.1,0.25,0.5,1]"
      ],
      "execution_count": 31,
      "outputs": []
    },
    {
      "cell_type": "code",
      "metadata": {
        "id": "MH3URHC-yvma"
      },
      "source": [
        "lr_tested = []\n",
        "L2_tested = []\n",
        "Loss_train = []\n",
        "Loss_val = []\n",
        "\n",
        "for lr in lr_list:\n",
        "  for l2 in L2_list:\n",
        "     W, w_list, mse_train_list, mse_val_list, amt_epochs = mini_batch_gradient_descent_with_l2(X_train=X_train_grid, X_val=X_valid_grid, y_train=y_train_grid, y_val=y_valid_grid, lr=lr, amt_epochs=100, batches=10, L2_reg=l2)\n",
        "     lr_tested.append(lr)\n",
        "     L2_tested.append(l2)\n",
        "     Loss_train.append(mse_train_list[-1])\n",
        "     Loss_val.append(mse_val_list[-1])"
      ],
      "execution_count": null,
      "outputs": []
    },
    {
      "cell_type": "code",
      "metadata": {
        "colab": {
          "base_uri": "https://localhost:8080/",
          "height": 282
        },
        "id": "CfrJOnrURtFL",
        "outputId": "47f373d8-a599-4b35-ab21-265919c8033e"
      },
      "source": [
        "plt.scatter(lr_tested, Loss_val)"
      ],
      "execution_count": 138,
      "outputs": [
        {
          "output_type": "execute_result",
          "data": {
            "text/plain": [
              "<matplotlib.collections.PathCollection at 0x7fee2f9ed390>"
            ]
          },
          "metadata": {
            "tags": []
          },
          "execution_count": 138
        },
        {
          "output_type": "display_data",
          "data": {
            "image/png": "[encoded data removed]",
            "text/plain": [
              "<Figure size 432x288 with 1 Axes>"
            ]
          },
          "metadata": {
            "tags": [],
            "needs_background": "light"
          }
        }
      ]
    },
    {
      "cell_type": "code",
      "metadata": {
        "colab": {
          "base_uri": "https://localhost:8080/",
          "height": 282
        },
        "id": "YOki8WFGR3Pi",
        "outputId": "307b582e-8092-4f73-ad88-e6d3f48918e0"
      },
      "source": [
        "plt.scatter(L2_tested, Loss_val)"
      ],
      "execution_count": 139,
      "outputs": [
        {
          "output_type": "execute_result",
          "data": {
            "text/plain": [
              "<matplotlib.collections.PathCollection at 0x7fee2f9779d0>"
            ]
          },
          "metadata": {
            "tags": []
          },
          "execution_count": 139
        },
        {
          "output_type": "display_data",
          "data": {
            "image/png": "[encoded data removed]",
            "text/plain": [
              "<Figure size 432x288 with 1 Axes>"
            ]
          },
          "metadata": {
            "tags": [],
            "needs_background": "light"
          }
        }
      ]
    },
    {
      "cell_type": "code",
      "metadata": {
        "colab": {
          "base_uri": "https://localhost:8080/",
          "height": 592
        },
        "id": "gUCvrO4hTbTv",
        "outputId": "a105e7a6-49f8-4a5e-8075-42d158055ab0"
      },
      "source": [
        "fig = plt.figure(figsize=(10,10))\n",
        "ax = plt.axes(projection='3d')\n",
        "# Data for three-dimensional scattered points\n",
        "zdata = Loss_val\n",
        "xdata = lr_tested\n",
        "ydata = L2_tested\n",
        "ax.scatter3D(xdata, ydata, zdata, c=zdata)\n",
        "ax.set_xlabel('Learning Rate', fontsize=10)\n",
        "ax.set_ylabel('L2 factor', fontsize=10)\n",
        "ax.set_zlabel('MSE', fontsize=10)"
      ],
      "execution_count": 157,
      "outputs": [
        {
          "output_type": "execute_result",
          "data": {
            "text/plain": [
              "Text(0.5, 0, 'MSE')"
            ]
          },
          "metadata": {
            "tags": []
          },
          "execution_count": 157
        },
        {
          "output_type": "display_data",
          "data": {
            "image/png": "[encoded data removed]",
            "text/plain": [
              "<Figure size 720x720 with 1 Axes>"
            ]
          },
          "metadata": {
            "tags": [],
            "needs_background": "light"
          }
        }
      ]
    },
    {
      "cell_type": "code",
      "metadata": {
        "colab": {
          "base_uri": "https://localhost:8080/"
        },
        "id": "G6XKUoo3SBuz",
        "outputId": "004d2e17-7ec7-4ffa-dc7c-0f2cafab6f97"
      },
      "source": [
        "idx_min_loss = Loss_val.index(np.min(Loss_val))\n",
        "print(f'Min Loss: {Loss_val[idx_min_loss]}')\n",
        "print(f'Best lr: {lr_tested[idx_min_loss]}')\n",
        "print(f'Best L2: {L2_tested[idx_min_loss]}')"
      ],
      "execution_count": 158,
      "outputs": [
        {
          "output_type": "stream",
          "text": [
            "Min Loss: 51.63529288202977\n",
            "Best lr: 0.01\n",
            "Best L2: 0.1\n"
          ],
          "name": "stdout"
        }
      ]
    },
    {
      "cell_type": "code",
      "metadata": {
        "id": "CrRkPdcSygA0"
      },
      "source": [
        " W, w_list, mse_train_list, mse_val_list, amt_epochs = mini_batch_gradient_descent_with_l2(X_train=X_train2, X_val=X_test2, y_train=y_train, y_val=y_test, lr=0.01, amt_epochs=100, batches=10, L2_reg=0.1)"
      ],
      "execution_count": 32,
      "outputs": []
    },
    {
      "cell_type": "code",
      "metadata": {
        "colab": {
          "base_uri": "https://localhost:8080/",
          "height": 282
        },
        "id": "EmRMohhQzCGJ",
        "outputId": "c95cf9de-8500-47f8-8d29-f755b2683e8b"
      },
      "source": [
        "plt.plot(range(amt_epochs), mse_train_list, color='r', label='mse_train')\n",
        "plt.plot(range(amt_epochs), mse_val_list, color='b', label='mse_test')\n",
        "plt.legend()"
      ],
      "execution_count": 33,
      "outputs": [
        {
          "output_type": "execute_result",
          "data": {
            "text/plain": [
              "<matplotlib.legend.Legend at 0x7f0f946bfed0>"
            ]
          },
          "metadata": {
            "tags": []
          },
          "execution_count": 33
        },
        {
          "output_type": "display_data",
          "data": {
            "image/png": "[encoded data removed]",
            "text/plain": [
              "<Figure size 432x288 with 1 Axes>"
            ]
          },
          "metadata": {
            "tags": [],
            "needs_background": "light"
          }
        }
      ]
    },
    {
      "cell_type": "markdown",
      "metadata": {
        "id": "tzAhAuN8Drw5"
      },
      "source": [
        "e.En los puntos (b), (c) y (d) utilizaste Python para hacer la implementación y el modelo ya estaba establecido. En este punto se pide hacer una implementación con Deep Learning en PyTorch. Las redes neuronales, si tienen la suficiente cantidad de layers y se están utilizando las funciones de activación adecuadas, son capaces de representar cualquier función para mapear la entrada a la salida. Proponer una arquitectura,agregar regularización mediante la técnica dropout, entrenar la red neuronal, buscar los mejores hiper parámetros y presentar el ECM sobre el dataset de testing. Comparar los resultados obtenidos en (e) con los puntos anteriores."
      ]
    },
    {
      "cell_type": "code",
      "metadata": {
        "id": "lZPXTO_3D5ZS"
      },
      "source": [
        "import torch\n",
        "from torch.utils.data import Dataset\n",
        "from torch.utils.data import DataLoader"
      ],
      "execution_count": 34,
      "outputs": []
    },
    {
      "cell_type": "code",
      "metadata": {
        "id": "WLRMZh_tzrc3"
      },
      "source": [
        "class CustomDataset(Dataset):\n",
        "    def __init__(self, X, Y):\n",
        "        super().__init__()\n",
        "        self.X = X\n",
        "        self.Y = Y\n",
        "\n",
        "    def __len__(self):\n",
        "        return self.X.shape[0]\n",
        "\n",
        "    def __getitem__(self, idx):\n",
        "        return self.X[idx,:], self.Y[idx]"
      ],
      "execution_count": 35,
      "outputs": []
    },
    {
      "cell_type": "code",
      "metadata": {
        "colab": {
          "base_uri": "https://localhost:8080/"
        },
        "id": "I-u0Fpz4zraQ",
        "outputId": "a4225fa4-7861-4498-dba8-e9ae91b03672"
      },
      "source": [
        "training = CustomDataset(X_train2, y_train)\n",
        "testing = CustomDataset(X_test2, y_test)\n",
        "print(len(training))\n",
        "print(len(testing))"
      ],
      "execution_count": 38,
      "outputs": [
        {
          "output_type": "stream",
          "text": [
            "8000\n",
            "2000\n"
          ],
          "name": "stdout"
        }
      ]
    },
    {
      "cell_type": "code",
      "metadata": {
        "id": "EW9es9nqzrXl"
      },
      "source": [
        "training_dataloader = DataLoader(training, batch_size=128, shuffle=True)\n",
        "test_dataloader = DataLoader(testing, batch_size=128, shuffle=True)"
      ],
      "execution_count": 39,
      "outputs": []
    },
    {
      "cell_type": "code",
      "metadata": {
        "id": "fvjhgU5-zrWJ"
      },
      "source": [
        "class NNet(torch.nn.Module):\n",
        "    def __init__(self):\n",
        "        super().__init__()\n",
        "        self.linear_1 = torch.nn.Linear(in_features=3, out_features=20, bias=True)\n",
        "        self.relu_1 = torch.nn.ReLU()\n",
        "        self.dropout_1 = torch.nn.Dropout(0.1)\n",
        "        self.linear_2 = torch.nn.Linear(in_features=20, out_features=10, bias=True)\n",
        "        self.relu_2 = torch.nn.ReLU()\n",
        "        self.linear_3 = torch.nn.Linear(in_features=10, out_features=1, bias=True)\n",
        "    \n",
        "    def forward(self, x):\n",
        "        z1 = self.linear_1(x)\n",
        "        a1 = self.relu_1(z1)\n",
        "        d1 = self.dropout_1(a1)\n",
        "        z2 = self.linear_2(d1)\n",
        "        a2 = self.relu_2(z2)\n",
        "        y = self.linear_3(a2)\n",
        "        return y"
      ],
      "execution_count": 67,
      "outputs": []
    },
    {
      "cell_type": "code",
      "metadata": {
        "colab": {
          "base_uri": "https://localhost:8080/"
        },
        "id": "PdxJ7_MZzrSs",
        "outputId": "a81f7c3e-bee5-4d04-f030-7a588b40e8fa"
      },
      "source": [
        "nnet=NNet()\n",
        "print(nnet)"
      ],
      "execution_count": 68,
      "outputs": [
        {
          "output_type": "stream",
          "text": [
            "NNet(\n",
            "  (linear_1): Linear(in_features=3, out_features=20, bias=True)\n",
            "  (relu_1): ReLU()\n",
            "  (dropout_1): Dropout(p=0.1, inplace=False)\n",
            "  (linear_2): Linear(in_features=20, out_features=10, bias=True)\n",
            "  (relu_2): ReLU()\n",
            "  (linear_3): Linear(in_features=10, out_features=1, bias=True)\n",
            ")\n"
          ],
          "name": "stdout"
        }
      ]
    },
    {
      "cell_type": "code",
      "metadata": {
        "id": "mpq8KqekzrP0"
      },
      "source": [
        "criterion = torch.nn.MSELoss(reduction='mean') # criterion, is my lost function\n",
        "optimizer = torch.optim.Adam(nnet.parameters(), lr=0.01) # is my optimizer"
      ],
      "execution_count": 69,
      "outputs": []
    },
    {
      "cell_type": "code",
      "metadata": {
        "colab": {
          "base_uri": "https://localhost:8080/"
        },
        "id": "BLspZoUc0_iQ",
        "outputId": "dd491ec4-b15c-4e05-a260-8e860d28b709"
      },
      "source": [
        "device = \"\"\n",
        "if torch.cuda.is_available():\n",
        "    device = \"cuda:0\"\n",
        "else:\n",
        "    device = \"cpu\"\n",
        "\n",
        "# device = torch.device(\"cuda:0\" if torch.cuda.is_available() else \"cpu\")\n",
        "\n",
        "nnet.to(device)\n",
        "MSE_train_list = []\n",
        "MSE_test_list = []\n",
        "for epoch in range(100):\n",
        "\n",
        "    running_loss = 0\n",
        "    nnet.train()\n",
        "\n",
        "    MSE_train_batch_list = []\n",
        "    for i, data in enumerate(training_dataloader):\n",
        "\n",
        "        # batch\n",
        "        x, y = data\n",
        "        x = x.to(device).float()\n",
        "        y = y.to(device).float().reshape(-1,1)\n",
        "\n",
        "        # set gradient to zero\n",
        "        optimizer.zero_grad()\n",
        "\n",
        "        # forward \n",
        "        y_hat = nnet(x)\n",
        "\n",
        "        # loss\n",
        "        loss = criterion(y_hat, y)\n",
        "        \n",
        "        # Guardo el MSE de train\n",
        "        MSE_train_batch_list.append(loss)\n",
        "\n",
        "        # backward\n",
        "        loss.backward()\n",
        "\n",
        "        # update of parameters\n",
        "        optimizer.step()\n",
        "\n",
        "        # compute metrics and statistics\n",
        "        running_loss += loss.item()\n",
        "    \n",
        "    # run forward on test data\n",
        "    nnet.eval()\n",
        "    with torch.no_grad():\n",
        "        nnet_test_scores = []\n",
        "        truth = []\n",
        "        for i, data in enumerate(test_dataloader):\n",
        "            # batch\n",
        "            x, y = data\n",
        "            x = x.to(device).float()\n",
        "            y = y.to(device).float().reshape(-1,1)\n",
        "\n",
        "            # forward \n",
        "            y_hat = nnet(x)\n",
        "\n",
        "            # accumulate data\n",
        "            truth += list(y.detach().numpy()) \n",
        "            nnet_test_scores += list(y_hat.detach().numpy())\n",
        "        \n",
        "        MSE_metric = MSE()\n",
        "        mse_test = MSE_metric(np.array(truth),np.array(nnet_test_scores))\n",
        "        mse_train = np.mean(MSE_train_batch_list)\n",
        "        \n",
        "        MSE_test_list.append(mse_test)\n",
        "        MSE_train_list.append(mse_train)\n",
        "\n",
        "        print(f\"Epoch = {epoch} | loss = {running_loss / len(training)} | MSE = {mse_test}\")"
      ],
      "execution_count": 70,
      "outputs": [
        {
          "output_type": "stream",
          "text": [
            "Epoch = 0 | loss = 0.0003787468599621207 | MSE = 0.005895989418029785\n",
            "Epoch = 1 | loss = 4.549988711369224e-05 | MSE = 0.0011165063381195068\n",
            "Epoch = 2 | loss = 2.445132576394826e-05 | MSE = 0.0006217769980430603\n",
            "Epoch = 3 | loss = 2.2899528848938642e-05 | MSE = 0.0008625303506851196\n",
            "Epoch = 4 | loss = 1.9834218866890296e-05 | MSE = 0.0008609776496887208\n",
            "Epoch = 5 | loss = 1.6936796841036993e-05 | MSE = 0.0005223630666732788\n",
            "Epoch = 6 | loss = 1.5757444431073962e-05 | MSE = 0.000468487024307251\n",
            "Epoch = 7 | loss = 1.5115786482056137e-05 | MSE = 0.0003047111928462982\n",
            "Epoch = 8 | loss = 1.3889041198126506e-05 | MSE = 0.00031414228677749634\n",
            "Epoch = 9 | loss = 1.2178009659692179e-05 | MSE = 0.00030515265464782715\n",
            "Epoch = 10 | loss = 1.0983593565470073e-05 | MSE = 0.0004157295823097229\n",
            "Epoch = 11 | loss = 1.1004395179043059e-05 | MSE = 0.0005261836051940918\n",
            "Epoch = 12 | loss = 1.0914942773524671e-05 | MSE = 0.0004134950041770935\n",
            "Epoch = 13 | loss = 1.1039713550417218e-05 | MSE = 0.0007061978578567505\n",
            "Epoch = 14 | loss = 9.44969098054571e-06 | MSE = 0.0006353811025619507\n",
            "Epoch = 15 | loss = 9.094971923332195e-06 | MSE = 0.0005894455909729004\n",
            "Epoch = 16 | loss = 9.285292464483063e-06 | MSE = 0.000613654613494873\n",
            "Epoch = 17 | loss = 8.571330457925797e-06 | MSE = 0.00022393377125263215\n",
            "Epoch = 18 | loss = 8.045744638366159e-06 | MSE = 0.000633224368095398\n",
            "Epoch = 19 | loss = 7.3888002261810474e-06 | MSE = 0.0006007004976272583\n",
            "Epoch = 20 | loss = 7.0351755857700485e-06 | MSE = 0.000283719003200531\n",
            "Epoch = 21 | loss = 7.060778483719332e-06 | MSE = 0.0005343650579452514\n",
            "Epoch = 22 | loss = 6.795061108277878e-06 | MSE = 0.00040137550234794616\n",
            "Epoch = 23 | loss = 6.051354303053813e-06 | MSE = 0.0004116601347923279\n",
            "Epoch = 24 | loss = 5.953166823019274e-06 | MSE = 0.0005724433660507202\n",
            "Epoch = 25 | loss = 5.818154004373355e-06 | MSE = 0.0006425045728683472\n",
            "Epoch = 26 | loss = 5.607653376500821e-06 | MSE = 0.0003590112328529358\n",
            "Epoch = 27 | loss = 5.3807369622518306e-06 | MSE = 0.00062896728515625\n",
            "Epoch = 28 | loss = 5.2898110589012505e-06 | MSE = 0.0005495493412017822\n",
            "Epoch = 29 | loss = 4.942888734149165e-06 | MSE = 0.0007993980646133423\n",
            "Epoch = 30 | loss = 5.571665418756311e-06 | MSE = 0.001091915488243103\n",
            "Epoch = 31 | loss = 4.823378862056416e-06 | MSE = 0.0009869737029075622\n",
            "Epoch = 32 | loss = 4.64844500675099e-06 | MSE = 0.0007893443703651428\n",
            "Epoch = 33 | loss = 4.9539436586201195e-06 | MSE = 0.0002896988391876221\n",
            "Epoch = 34 | loss = 4.137240925047081e-06 | MSE = 0.0006165283918380737\n",
            "Epoch = 35 | loss = 3.768455037061358e-06 | MSE = 0.0006099337339401245\n",
            "Epoch = 36 | loss = 3.903191689460073e-06 | MSE = 0.0005419372320175171\n",
            "Epoch = 37 | loss = 4.7641276942158584e-06 | MSE = 0.0005371708273887634\n",
            "Epoch = 38 | loss = 3.46026775878272e-06 | MSE = 0.0007119593620300293\n",
            "Epoch = 39 | loss = 4.223904466925888e-06 | MSE = 0.0004184545874595642\n",
            "Epoch = 40 | loss = 3.691101217555115e-06 | MSE = 0.0009552772045135498\n",
            "Epoch = 41 | loss = 2.9948868814244635e-06 | MSE = 0.0005027439594268799\n",
            "Epoch = 42 | loss = 4.215229035253288e-06 | MSE = 0.0005702321529388427\n",
            "Epoch = 43 | loss = 3.411602032429073e-06 | MSE = 0.0005960631370544434\n",
            "Epoch = 44 | loss = 2.986899159623135e-06 | MSE = 0.0006692574620246887\n",
            "Epoch = 45 | loss = 3.111410198471276e-06 | MSE = 0.0004389452338218689\n",
            "Epoch = 46 | loss = 2.806289345244295e-06 | MSE = 0.0007793501615524291\n",
            "Epoch = 47 | loss = 3.4811367531801807e-06 | MSE = 0.0005401656031608582\n",
            "Epoch = 48 | loss = 2.588052662758855e-06 | MSE = 0.0007352224588394166\n",
            "Epoch = 49 | loss = 2.806538337608799e-06 | MSE = 0.0009401229619979859\n",
            "Epoch = 50 | loss = 2.5880228877213084e-06 | MSE = 0.0006672822237014771\n",
            "Epoch = 51 | loss = 3.120841714917333e-06 | MSE = 0.0005371409058570861\n",
            "Epoch = 52 | loss = 2.3201604335554293e-06 | MSE = 0.0006349961757659913\n",
            "Epoch = 53 | loss = 2.5105452832576704e-06 | MSE = 0.0008931137323379516\n",
            "Epoch = 54 | loss = 2.293047055900388e-06 | MSE = 0.0005220390558242797\n",
            "Epoch = 55 | loss = 2.0125858100072946e-06 | MSE = 0.0005738880038261414\n",
            "Epoch = 56 | loss = 2.0102037942706374e-06 | MSE = 0.0006958987712860108\n",
            "Epoch = 57 | loss = 2.3480708659917584e-06 | MSE = 0.0012714136838912963\n",
            "Epoch = 58 | loss = 2.3194231562229106e-06 | MSE = 0.000815087080001831\n",
            "Epoch = 59 | loss = 1.8032151465376955e-06 | MSE = 0.0007037734389305115\n",
            "Epoch = 60 | loss = 2.006185901336721e-06 | MSE = 0.0009452476501464844\n",
            "Epoch = 61 | loss = 2.7176523153684684e-06 | MSE = 0.0008714201450347901\n",
            "Epoch = 62 | loss = 2.2615605930695894e-06 | MSE = 0.0007102861404418945\n",
            "Epoch = 63 | loss = 2.8447431459426297e-06 | MSE = 0.0010380789041519165\n",
            "Epoch = 64 | loss = 2.4500790850652265e-06 | MSE = 0.0006372894048690795\n",
            "Epoch = 65 | loss = 2.0796905846509617e-06 | MSE = 0.0007126123905181885\n",
            "Epoch = 66 | loss = 1.7753529045876348e-06 | MSE = 0.0006341379880905151\n",
            "Epoch = 67 | loss = 2.6150382336709298e-06 | MSE = 0.0006914722323417663\n",
            "Epoch = 68 | loss = 1.908509063468955e-06 | MSE = 0.0006156108975410461\n",
            "Epoch = 69 | loss = 2.379836907493882e-06 | MSE = 0.0009455777406692505\n",
            "Epoch = 70 | loss = 1.6856916518008801e-06 | MSE = 0.0005581396818161011\n",
            "Epoch = 71 | loss = 2.3963900739545353e-06 | MSE = 0.0005774032473564147\n",
            "Epoch = 72 | loss = 1.7003015582304215e-06 | MSE = 0.0005767306089401245\n",
            "Epoch = 73 | loss = 1.7632545495871453e-06 | MSE = 0.0004413858652114868\n",
            "Epoch = 74 | loss = 2.0404296255946974e-06 | MSE = 0.0007048344612121582\n",
            "Epoch = 75 | loss = 1.685179335254361e-06 | MSE = 0.0007264779806137085\n",
            "Epoch = 76 | loss = 1.8552603241914768e-06 | MSE = 0.0012712495326995849\n",
            "Epoch = 77 | loss = 2.5778206963877893e-06 | MSE = 0.0004265505373477936\n",
            "Epoch = 78 | loss = 1.8523541261856735e-06 | MSE = 0.0005904810428619385\n",
            "Epoch = 79 | loss = 1.7714527402858948e-06 | MSE = 0.0006843980550765991\n",
            "Epoch = 80 | loss = 2.2037598955648717e-06 | MSE = 0.0005665614604949951\n",
            "Epoch = 81 | loss = 1.6058955325206625e-06 | MSE = 0.0005207246541976928\n",
            "Epoch = 82 | loss = 2.8540360126498855e-06 | MSE = 0.0007394655942916871\n",
            "Epoch = 83 | loss = 1.9566600658436073e-06 | MSE = 0.0007981815338134765\n",
            "Epoch = 84 | loss = 1.8301655463801582e-06 | MSE = 0.0007524963617324829\n",
            "Epoch = 85 | loss = 2.245970250442042e-06 | MSE = 0.0006351786851882935\n",
            "Epoch = 86 | loss = 1.7395237664459273e-06 | MSE = 0.0006822757720947266\n",
            "Epoch = 87 | loss = 2.5495409881841623e-06 | MSE = 0.0005781620144844055\n",
            "Epoch = 88 | loss = 1.7212101574841653e-06 | MSE = 0.0005904723405838013\n",
            "Epoch = 89 | loss = 1.6486929407619754e-06 | MSE = 0.000928638219833374\n",
            "Epoch = 90 | loss = 1.8342713701713364e-06 | MSE = 0.00047752994298934934\n",
            "Epoch = 91 | loss = 1.4458742734859696e-06 | MSE = 0.0004392431974411011\n",
            "Epoch = 92 | loss = 1.8048602341877995e-06 | MSE = 0.0006810379028320313\n",
            "Epoch = 93 | loss = 2.5391853087057824e-06 | MSE = 0.0006772683262825012\n",
            "Epoch = 94 | loss = 1.993696318095317e-06 | MSE = 0.0007052204012870789\n",
            "Epoch = 95 | loss = 1.595496525624185e-06 | MSE = 0.0004419028162956238\n",
            "Epoch = 96 | loss = 1.6737325295252959e-06 | MSE = 0.0007182447910308837\n",
            "Epoch = 97 | loss = 1.8930645719592577e-06 | MSE = 0.0007505438923835755\n",
            "Epoch = 98 | loss = 1.5889880751274177e-06 | MSE = 0.0006631472706794738\n",
            "Epoch = 99 | loss = 2.6457043841219276e-06 | MSE = 0.000929768443107605\n"
          ],
          "name": "stdout"
        }
      ]
    },
    {
      "cell_type": "code",
      "metadata": {
        "colab": {
          "base_uri": "https://localhost:8080/"
        },
        "id": "C7GcA0rc0_f6",
        "outputId": "08d436ac-a683-47de-ca82-d79b24853357"
      },
      "source": [
        "print(len(MSE_train_list))\n",
        "print(len(MSE_test_list))"
      ],
      "execution_count": 71,
      "outputs": [
        {
          "output_type": "stream",
          "text": [
            "100\n",
            "100\n"
          ],
          "name": "stdout"
        }
      ]
    },
    {
      "cell_type": "code",
      "metadata": {
        "colab": {
          "base_uri": "https://localhost:8080/",
          "height": 284
        },
        "id": "dDH7B4y80_cL",
        "outputId": "b3236869-a7f7-439e-edaf-e8fabdd32350"
      },
      "source": [
        "plt.plot(range(100), MSE_train_list, color='r', label='mse_train')\n",
        "plt.plot(range(100), MSE_test_list, color='b', label='mse_test')\n",
        "plt.legend()"
      ],
      "execution_count": 72,
      "outputs": [
        {
          "output_type": "execute_result",
          "data": {
            "text/plain": [
              "<matplotlib.legend.Legend at 0x7f0f361e1650>"
            ]
          },
          "metadata": {
            "tags": []
          },
          "execution_count": 72
        },
        {
          "output_type": "display_data",
          "data": {
            "image/png": "[encoded data removed]",
            "text/plain": [
              "<Figure size 432x288 with 1 Axes>"
            ]
          },
          "metadata": {
            "tags": [],
            "needs_background": "light"
          }
        }
      ]
    },
    {
      "cell_type": "markdown",
      "metadata": {
        "id": "_LqroamkD576"
      },
      "source": [
        "f.Para el punto (e), ¿qué función de activación seleccionaste y por qué? Para la función que hayas seleccionado, explica sus características, su forward y su backward."
      ]
    },
    {
      "cell_type": "markdown",
      "metadata": {
        "id": "7PrRUvr783dV"
      },
      "source": [
        "Elegí como funciones de activación la función ReLU ya que de esta manera evitamos el problema que tiene la sigmoid con vanishing gradients.\n",
        "La función ReLU devuelve el valor de X si X es mayor a 0 y 0 si X es menor que 0. \n",
        "\n",
        "Puede llegar a tener problemas cuando la z que le pasamos es negativa, ya que la derivada sería 0. Este problema es conocido como \"Dead ReLU Neuron\".\n",
        "\n",
        "Si detectáramos este problema, podríamos cambiar la función por la Leaky ReLU que evita esto asignando 0.01*X a cada X menor que 0."
      ]
    },
    {
      "cell_type": "code",
      "metadata": {
        "id": "lreBaiMd_ANx"
      },
      "source": [
        ""
      ],
      "execution_count": null,
      "outputs": []
    }
  ]
}