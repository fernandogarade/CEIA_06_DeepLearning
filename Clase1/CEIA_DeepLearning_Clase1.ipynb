{
  "nbformat": 4,
  "nbformat_minor": 0,
  "metadata": {
    "colab": {
      "name": "CEIA_DeepLearning_Clase1.ipynb",
      "provenance": []
    },
    "kernelspec": {
      "name": "python3",
      "display_name": "Python 3"
    },
    "language_info": {
      "name": "python"
    }
  },
  "cells": [
    {
      "cell_type": "code",
      "metadata": {
        "id": "8kGaVfcbEMEm"
      },
      "source": [
        "import numpy as np\n",
        "import matplotlib.pyplot as plt\n",
        "import pandas as pd"
      ],
      "execution_count": 52,
      "outputs": []
    },
    {
      "cell_type": "code",
      "metadata": {
        "id": "R6FY8BHKEP6S"
      },
      "source": [
        "X = np.array([[0,0,1],[0,1,1],[1,0,1],[1,1,1]])\n",
        "y = np.array([0,1,1,0])"
      ],
      "execution_count": 2,
      "outputs": []
    },
    {
      "cell_type": "code",
      "metadata": {
        "id": "49vyZa3vEfre"
      },
      "source": [
        "w = np.linalg.inv(X.T @ X) @ X.T @ y"
      ],
      "execution_count": 3,
      "outputs": []
    },
    {
      "cell_type": "code",
      "metadata": {
        "colab": {
          "base_uri": "https://localhost:8080/"
        },
        "id": "OoZfRArgEyDp",
        "outputId": "9abf7526-0043-4752-bed0-cc135d9be430"
      },
      "source": [
        "w.shape"
      ],
      "execution_count": 4,
      "outputs": [
        {
          "output_type": "execute_result",
          "data": {
            "text/plain": [
              "(3,)"
            ]
          },
          "metadata": {
            "tags": []
          },
          "execution_count": 4
        }
      ]
    },
    {
      "cell_type": "code",
      "metadata": {
        "colab": {
          "base_uri": "https://localhost:8080/"
        },
        "id": "qdvJKecrHaIW",
        "outputId": "c2c2c152-6d3c-40f4-a5cf-826281e4e405"
      },
      "source": [
        "X.shape"
      ],
      "execution_count": 5,
      "outputs": [
        {
          "output_type": "execute_result",
          "data": {
            "text/plain": [
              "(4, 3)"
            ]
          },
          "metadata": {
            "tags": []
          },
          "execution_count": 5
        }
      ]
    },
    {
      "cell_type": "code",
      "metadata": {
        "id": "2eQb8xXXFiJ-"
      },
      "source": [
        "y_pred = X@w"
      ],
      "execution_count": 6,
      "outputs": []
    },
    {
      "cell_type": "code",
      "metadata": {
        "id": "pg4G8gDzE3df",
        "colab": {
          "base_uri": "https://localhost:8080/"
        },
        "outputId": "5a90585c-f394-4b04-a0b2-3665a77f0b61"
      },
      "source": [
        "y_pred"
      ],
      "execution_count": 7,
      "outputs": [
        {
          "output_type": "execute_result",
          "data": {
            "text/plain": [
              "array([0.5, 0.5, 0.5, 0.5])"
            ]
          },
          "metadata": {
            "tags": []
          },
          "execution_count": 7
        }
      ]
    },
    {
      "cell_type": "code",
      "metadata": {
        "id": "7ro7edxQF2g2"
      },
      "source": [
        ""
      ],
      "execution_count": 36,
      "outputs": []
    },
    {
      "cell_type": "code",
      "metadata": {
        "id": "Sgz0P_4oF2pQ"
      },
      "source": [
        "lr = 0.15\n",
        "L_list_epochs = []\n",
        "\n",
        "w11_1 = np.random.random()\n",
        "w12_1 = np.random.random()\n",
        "b1_1 = np.random.random()\n",
        "\n",
        "w21_1 = np.random.random()\n",
        "w22_1 = np.random.random()\n",
        "b2_1 = np.random.random()\n",
        "\n",
        "w11_2 = np.random.random()\n",
        "w12_2 = np.random.random()\n",
        "b1_2 = np.random.random()\n",
        "\n",
        "for epoch in range(1000):\n",
        "  for sample in range(4):\n",
        "    \n",
        "    #print(\"Epoch nr: \", epoch)\n",
        "    #print(\"Sample nr: \", sample)\n",
        "\n",
        "    # Paso Forward\n",
        "    \n",
        "    z1_1 = w11_1 * X[sample,0] + w12_1 * X[sample,1] + b1_1 * X[sample,2]\n",
        "    a1_1 = 1 / (1 + np.exp(-z1_1))\n",
        "\n",
        "    z2_1 = w21_1 * X[sample,0] + w22_1 * X[sample,1] + b2_1 * X[sample,2]\n",
        "    a2_1 = 1 / (1 + np.exp(-z2_1))\n",
        "\n",
        "    z1_2 = w11_2 * a1_1 + w12_2 * a2_1 + b1_2 * 1\n",
        "    \n",
        "    L = np.power((y[sample]-z1_2),2)\n",
        "\n",
        "    L_list_epochs.append(L)\n",
        "    #print(\"y: \", y[sample])\n",
        "    #print(\"yhat: \",z1_2)\n",
        "    #print(\"L: \",L)\n",
        "\n",
        "    # Paso Backward\n",
        "\n",
        "    grad_b1_2 = -2 * (y[sample] - z1_2) * 1\n",
        "    grad_w12_2 = -2 * (y[sample] - z1_2) * a2_1\n",
        "    grad_w11_2 = -2 * (y[sample] - z1_2) * a1_1\n",
        "\n",
        "    grad_b2_1 = -2 * (y[sample] - z1_2) * w12_2 * a2_1 * (1 - a2_1) * 1\n",
        "    grad_w22_1 = -2 * (y[sample] - z1_2) * w12_2 * a2_1 * (1 - a2_1) * X[sample,1]\n",
        "    grad_w21_1 = -2 * (y[sample] - z1_2) * w12_2 * a2_1 * (1 - a2_1) * X[sample,0]\n",
        "\n",
        "    grad_b1_1 = -2 * (y[sample] - z1_2) * w11_2 * a1_1 * (1 - a1_1) * 1\n",
        "    grad_w12_1 = -2 * (y[sample] - z1_2) * w11_2 * a1_1 * (1 - a1_1) * X[sample,1]\n",
        "    grad_w11_1 = -2 * (y[sample] - z1_2) * w11_2 * a1_1 * (1 - a1_1) * X[sample,0]\n",
        "\n",
        "    # Actualización de parámetros\n",
        "\n",
        "    w11_1 = w11_1 - lr * grad_w11_1\n",
        "    w12_1 = w12_1 - lr * grad_w12_1\n",
        "    b1_1 = b1_1 - lr * grad_b1_1\n",
        "\n",
        "    w21_1 = w21_1 - lr * grad_w21_1 \n",
        "    w22_1 = w22_1 - lr * grad_w22_1\n",
        "    b2_1 = b2_1 - lr * grad_b2_1\n",
        "\n",
        "    w11_2 = w11_2 - lr * grad_w11_2\n",
        "    w12_2 = w12_2 - lr * grad_w12_2\n",
        "    b1_2 = b1_2 - lr * grad_b1_2\n"
      ],
      "execution_count": 46,
      "outputs": []
    },
    {
      "cell_type": "code",
      "metadata": {
        "colab": {
          "base_uri": "https://localhost:8080/",
          "height": 282
        },
        "id": "VdcDagduITMV",
        "outputId": "69de42b4-f081-4ed0-ec5b-ef250cc49399"
      },
      "source": [
        "plt.plot(range(4000),L_list_epochs)"
      ],
      "execution_count": 51,
      "outputs": [
        {
          "output_type": "execute_result",
          "data": {
            "text/plain": [
              "[<matplotlib.lines.Line2D at 0x7fc3ab9c9650>]"
            ]
          },
          "metadata": {
            "tags": []
          },
          "execution_count": 51
        },
        {
          "output_type": "display_data",
          "data": {
            "image/png": "[encoded data removed]",
            "text/plain": [
              "<Figure size 432x288 with 1 Axes>"
            ]
          },
          "metadata": {
            "tags": [],
            "needs_background": "light"
          }
        }
      ]
    },
    {
      "cell_type": "code",
      "metadata": {
        "id": "-tBj7kDCC9P8"
      },
      "source": [
        "yhat = []\n",
        "for sample in range(4):\n",
        "  z1_1_new = w11_1 * X[sample,0] + w12_1 * X[sample,1] + b1_1 * X[sample,2]\n",
        "  a1_1_new = 1 / (1 + np.exp(-z1_1_new))\n",
        "\n",
        "  z2_1_new = w21_1 * X[sample,0] + w22_1 * X[sample,1] + b2_1 * X[sample,2]\n",
        "  a2_1_new = 1 / (1 + np.exp(-z2_1_new))\n",
        "\n",
        "  z1_2_new = w11_2 * a1_1_new + w12_2 * a2_1_new + b1_2 * 1\n",
        "  yhat.append(z1_2_new)"
      ],
      "execution_count": 59,
      "outputs": []
    },
    {
      "cell_type": "code",
      "metadata": {
        "colab": {
          "base_uri": "https://localhost:8080/"
        },
        "id": "2-9afIVWEXZm",
        "outputId": "d3c18bb6-0265-484b-e791-e963a27af536"
      },
      "source": [
        "yhat"
      ],
      "execution_count": 60,
      "outputs": [
        {
          "output_type": "execute_result",
          "data": {
            "text/plain": [
              "[6.290967746735987e-12,\n",
              " 0.9999999999963551,\n",
              " 0.9999999999992355,\n",
              " 1.8540724511240114e-13]"
            ]
          },
          "metadata": {
            "tags": []
          },
          "execution_count": 60
        }
      ]
    },
    {
      "cell_type": "code",
      "metadata": {
        "id": "p8jJKWeuEje3"
      },
      "source": [
        "table = np.hstack([X,y.reshape(-1,1),np.array(yhat).reshape(-1,1)])"
      ],
      "execution_count": 68,
      "outputs": []
    },
    {
      "cell_type": "code",
      "metadata": {
        "colab": {
          "base_uri": "https://localhost:8080/",
          "height": 173
        },
        "id": "fozIHI7BByXZ",
        "outputId": "b7bbf99c-c70e-4be3-8c95-beb49ae218c3"
      },
      "source": [
        "data = pd.DataFrame(data=table, columns=[\"X1\",\"X2\",\"b\",\"y\",\"yhat\"])\n",
        "data"
      ],
      "execution_count": 70,
      "outputs": [
        {
          "output_type": "execute_result",
          "data": {
            "text/html": [
              "<div>\n",
              "<style scoped>\n",
              "    .dataframe tbody tr th:only-of-type {\n",
              "        vertical-align: middle;\n",
              "    }\n",
              "\n",
              "    .dataframe tbody tr th {\n",
              "        vertical-align: top;\n",
              "    }\n",
              "\n",
              "    .dataframe thead th {\n",
              "        text-align: right;\n",
              "    }\n",
              "</style>\n",
              "<table border=\"1\" class=\"dataframe\">\n",
              "  <thead>\n",
              "    <tr style=\"text-align: right;\">\n",
              "      <th></th>\n",
              "      <th>X1</th>\n",
              "      <th>X2</th>\n",
              "      <th>b</th>\n",
              "      <th>y</th>\n",
              "      <th>yhat</th>\n",
              "    </tr>\n",
              "  </thead>\n",
              "  <tbody>\n",
              "    <tr>\n",
              "      <th>0</th>\n",
              "      <td>0.0</td>\n",
              "      <td>0.0</td>\n",
              "      <td>1.0</td>\n",
              "      <td>0.0</td>\n",
              "      <td>6.290968e-12</td>\n",
              "    </tr>\n",
              "    <tr>\n",
              "      <th>1</th>\n",
              "      <td>0.0</td>\n",
              "      <td>1.0</td>\n",
              "      <td>1.0</td>\n",
              "      <td>1.0</td>\n",
              "      <td>1.000000e+00</td>\n",
              "    </tr>\n",
              "    <tr>\n",
              "      <th>2</th>\n",
              "      <td>1.0</td>\n",
              "      <td>0.0</td>\n",
              "      <td>1.0</td>\n",
              "      <td>1.0</td>\n",
              "      <td>1.000000e+00</td>\n",
              "    </tr>\n",
              "    <tr>\n",
              "      <th>3</th>\n",
              "      <td>1.0</td>\n",
              "      <td>1.0</td>\n",
              "      <td>1.0</td>\n",
              "      <td>0.0</td>\n",
              "      <td>1.854072e-13</td>\n",
              "    </tr>\n",
              "  </tbody>\n",
              "</table>\n",
              "</div>"
            ],
            "text/plain": [
              "    X1   X2    b    y          yhat\n",
              "0  0.0  0.0  1.0  0.0  6.290968e-12\n",
              "1  0.0  1.0  1.0  1.0  1.000000e+00\n",
              "2  1.0  0.0  1.0  1.0  1.000000e+00\n",
              "3  1.0  1.0  1.0  0.0  1.854072e-13"
            ]
          },
          "metadata": {
            "tags": []
          },
          "execution_count": 70
        }
      ]
    },
    {
      "cell_type": "code",
      "metadata": {
        "colab": {
          "base_uri": "https://localhost:8080/",
          "height": 173
        },
        "id": "aS6vVqidFQVt",
        "outputId": "c27d254d-c84c-4e84-b416-255d69552b3a"
      },
      "source": [
        "data[\"MSE\"] = np.power((data.y - data.yhat),2)\n",
        "data"
      ],
      "execution_count": 72,
      "outputs": [
        {
          "output_type": "execute_result",
          "data": {
            "text/html": [
              "<div>\n",
              "<style scoped>\n",
              "    .dataframe tbody tr th:only-of-type {\n",
              "        vertical-align: middle;\n",
              "    }\n",
              "\n",
              "    .dataframe tbody tr th {\n",
              "        vertical-align: top;\n",
              "    }\n",
              "\n",
              "    .dataframe thead th {\n",
              "        text-align: right;\n",
              "    }\n",
              "</style>\n",
              "<table border=\"1\" class=\"dataframe\">\n",
              "  <thead>\n",
              "    <tr style=\"text-align: right;\">\n",
              "      <th></th>\n",
              "      <th>X1</th>\n",
              "      <th>X2</th>\n",
              "      <th>b</th>\n",
              "      <th>y</th>\n",
              "      <th>yhat</th>\n",
              "      <th>MSE</th>\n",
              "    </tr>\n",
              "  </thead>\n",
              "  <tbody>\n",
              "    <tr>\n",
              "      <th>0</th>\n",
              "      <td>0.0</td>\n",
              "      <td>0.0</td>\n",
              "      <td>1.0</td>\n",
              "      <td>0.0</td>\n",
              "      <td>6.290968e-12</td>\n",
              "      <td>3.957628e-23</td>\n",
              "    </tr>\n",
              "    <tr>\n",
              "      <th>1</th>\n",
              "      <td>0.0</td>\n",
              "      <td>1.0</td>\n",
              "      <td>1.0</td>\n",
              "      <td>1.0</td>\n",
              "      <td>1.000000e+00</td>\n",
              "      <td>1.328502e-23</td>\n",
              "    </tr>\n",
              "    <tr>\n",
              "      <th>2</th>\n",
              "      <td>1.0</td>\n",
              "      <td>0.0</td>\n",
              "      <td>1.0</td>\n",
              "      <td>1.0</td>\n",
              "      <td>1.000000e+00</td>\n",
              "      <td>5.844596e-25</td>\n",
              "    </tr>\n",
              "    <tr>\n",
              "      <th>3</th>\n",
              "      <td>1.0</td>\n",
              "      <td>1.0</td>\n",
              "      <td>1.0</td>\n",
              "      <td>0.0</td>\n",
              "      <td>1.854072e-13</td>\n",
              "      <td>3.437585e-26</td>\n",
              "    </tr>\n",
              "  </tbody>\n",
              "</table>\n",
              "</div>"
            ],
            "text/plain": [
              "    X1   X2    b    y          yhat           MSE\n",
              "0  0.0  0.0  1.0  0.0  6.290968e-12  3.957628e-23\n",
              "1  0.0  1.0  1.0  1.0  1.000000e+00  1.328502e-23\n",
              "2  1.0  0.0  1.0  1.0  1.000000e+00  5.844596e-25\n",
              "3  1.0  1.0  1.0  0.0  1.854072e-13  3.437585e-26"
            ]
          },
          "metadata": {
            "tags": []
          },
          "execution_count": 72
        }
      ]
    }
  ]
}